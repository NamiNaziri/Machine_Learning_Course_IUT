{
 "cells": [
  {
   "cell_type": "markdown",
   "metadata": {},
   "source": [
    "## Python Basics\n",
    "\n",
    "### Math Operators\n",
    "\n",
    "From **Highest** to **Lowest** precedence:\n",
    "\n",
    "| Operators | Operation        | Example         |\n",
    "| --------- | ---------------- | --------------- |\n",
    "| **        | Exponent         | `2 ** 3 = 8`    |\n",
    "| %         | Modulus/Remaider | `22 % 8 = 6`    |\n",
    "| //        | Integer division | `22 // 8 = 2`   |\n",
    "| /         | Division         | `22 / 8 = 2.75` |\n",
    "| *         | Multiplication   | `3 * 3 = 9`     |\n",
    "| -         | Subtraction      | `5 - 2 = 3`     |\n",
    "| +         | Addition         | `2 + 2 = 4`     |\n",
    "\n",
    "Examples of expressions in the `interactive shell`:"
   ]
  },
  {
   "cell_type": "code",
   "execution_count": 1,
   "metadata": {},
   "outputs": [
    {
     "data": {
      "text/plain": [
       "256"
      ]
     },
     "execution_count": 1,
     "metadata": {},
     "output_type": "execute_result"
    }
   ],
   "source": [
    "2 ** 8"
   ]
  },
  {
   "cell_type": "code",
   "execution_count": 2,
   "metadata": {},
   "outputs": [
    {
     "data": {
      "text/plain": [
       "3"
      ]
     },
     "execution_count": 2,
     "metadata": {},
     "output_type": "execute_result"
    }
   ],
   "source": [
    "23 // 7"
   ]
  },
  {
   "cell_type": "code",
   "execution_count": 3,
   "metadata": {},
   "outputs": [
    {
     "data": {
      "text/plain": [
       "2"
      ]
     },
     "execution_count": 3,
     "metadata": {},
     "output_type": "execute_result"
    }
   ],
   "source": [
    "23 % 7"
   ]
  },
  {
   "cell_type": "markdown",
   "metadata": {},
   "source": [
    "### Data Types\n",
    "\n",
    "| Data Type              | Examples                                  |\n",
    "| ---------------------- | ----------------------------------------- |\n",
    "| Integers               | `-2, -1, 0, 1, 2, 3, 4, 5`                |\n",
    "| Floating-point numbers | `-1.25, -1.0, --0.5, 0.0, 0.5, 1.0, 1.25` |\n",
    "| Strings                | `'a', 'aa', 'aaa', 'Hello!', '11 cats'`   |\n"
   ]
  },
  {
   "cell_type": "markdown",
   "metadata": {},
   "source": [
    "\n",
    "### Comments\n",
    "\n",
    "Inline comment:"
   ]
  },
  {
   "cell_type": "code",
   "execution_count": 4,
   "metadata": {},
   "outputs": [],
   "source": [
    "# This is a comment"
   ]
  },
  {
   "cell_type": "markdown",
   "metadata": {},
   "source": [
    "### The print Function"
   ]
  },
  {
   "cell_type": "code",
   "execution_count": 5,
   "metadata": {},
   "outputs": [
    {
     "name": "stdout",
     "output_type": "stream",
     "text": [
      "Hello world!\n"
     ]
    }
   ],
   "source": [
    "print('Hello world!')"
   ]
  },
  {
   "cell_type": "code",
   "execution_count": 6,
   "metadata": {},
   "outputs": [
    {
     "name": "stdout",
     "output_type": "stream",
     "text": [
      "Hello world! 1\n"
     ]
    }
   ],
   "source": [
    "a = 1\n",
    "print('Hello world!', a)"
   ]
  },
  {
   "cell_type": "code",
   "execution_count": 7,
   "metadata": {},
   "outputs": [
    {
     "name": "stdout",
     "output_type": "stream",
     "text": [
      "Hello again! 1.1111111\n",
      "Hello again! 1.11\n"
     ]
    }
   ],
   "source": [
    "print(f\"Hello again! {a*1.1111111}\")\n",
    "print(f\"Hello again! {a*1.1111111:.2f}\")"
   ]
  },
  {
   "cell_type": "markdown",
   "metadata": {},
   "source": [
    "### The input Function\n",
    "\n",
    "Example Code:"
   ]
  },
  {
   "cell_type": "code",
   "execution_count": 8,
   "metadata": {},
   "outputs": [
    {
     "name": "stdout",
     "output_type": "stream",
     "text": [
      "What is your name?\n",
      "basir\n",
      "It is good to meet you, basir\n"
     ]
    }
   ],
   "source": [
    "print('What is your name?')   # ask for their name\n",
    "myName = input()\n",
    "print('It is good to meet you, {}'.format(myName))"
   ]
  },
  {
   "cell_type": "markdown",
   "metadata": {},
   "source": [
    "### The len Function\n"
   ]
  },
  {
   "cell_type": "code",
   "execution_count": 9,
   "metadata": {},
   "outputs": [
    {
     "data": {
      "text/plain": [
       "5"
      ]
     },
     "execution_count": 9,
     "metadata": {},
     "output_type": "execute_result"
    }
   ],
   "source": [
    "len('hello')"
   ]
  },
  {
   "cell_type": "code",
   "execution_count": 10,
   "metadata": {},
   "outputs": [
    {
     "data": {
      "text/plain": [
       "3"
      ]
     },
     "execution_count": 10,
     "metadata": {},
     "output_type": "execute_result"
    }
   ],
   "source": [
    "a = [\"1\", \"2\", \"3\"]\n",
    "len(a)"
   ]
  },
  {
   "cell_type": "markdown",
   "metadata": {},
   "source": [
    "## Flow Control\n",
    "\n",
    "### Comparison Operators\n",
    "\n",
    "| Operator | Meaning                  |\n",
    "| -------- | ------------------------ |\n",
    "| `==`     | Equal to                 |\n",
    "| `!=`     | Not equal to             |\n",
    "| `<`      | Less than                |\n",
    "| `>`      | Greater Than             |\n",
    "| `<=`     | Less than or Equal to    |\n",
    "| `>=`     | Greater than or Equal to |\n",
    "\n",
    "These operators evaluate to True or False depending on the values you give them.\n",
    "\n",
    "Examples:"
   ]
  },
  {
   "cell_type": "code",
   "execution_count": 11,
   "metadata": {},
   "outputs": [
    {
     "data": {
      "text/plain": [
       "True"
      ]
     },
     "execution_count": 11,
     "metadata": {},
     "output_type": "execute_result"
    }
   ],
   "source": [
    "42 == 42"
   ]
  },
  {
   "cell_type": "code",
   "execution_count": 12,
   "metadata": {},
   "outputs": [
    {
     "data": {
      "text/plain": [
       "False"
      ]
     },
     "execution_count": 12,
     "metadata": {},
     "output_type": "execute_result"
    }
   ],
   "source": [
    "40 == 42"
   ]
  },
  {
   "cell_type": "code",
   "execution_count": 13,
   "metadata": {},
   "outputs": [
    {
     "data": {
      "text/plain": [
       "True"
      ]
     },
     "execution_count": 13,
     "metadata": {},
     "output_type": "execute_result"
    }
   ],
   "source": [
    "'hello' == 'hello'"
   ]
  },
  {
   "cell_type": "code",
   "execution_count": 14,
   "metadata": {},
   "outputs": [
    {
     "data": {
      "text/plain": [
       "False"
      ]
     },
     "execution_count": 14,
     "metadata": {},
     "output_type": "execute_result"
    }
   ],
   "source": [
    "'hello' == 'Hello'"
   ]
  },
  {
   "cell_type": "code",
   "execution_count": 15,
   "metadata": {},
   "outputs": [
    {
     "data": {
      "text/plain": [
       "True"
      ]
     },
     "execution_count": 15,
     "metadata": {},
     "output_type": "execute_result"
    }
   ],
   "source": [
    "'dog' != 'cat'"
   ]
  },
  {
   "cell_type": "code",
   "execution_count": 16,
   "metadata": {},
   "outputs": [
    {
     "data": {
      "text/plain": [
       "True"
      ]
     },
     "execution_count": 16,
     "metadata": {},
     "output_type": "execute_result"
    }
   ],
   "source": [
    "42 == 42.0"
   ]
  },
  {
   "cell_type": "code",
   "execution_count": 17,
   "metadata": {},
   "outputs": [
    {
     "data": {
      "text/plain": [
       "False"
      ]
     },
     "execution_count": 17,
     "metadata": {},
     "output_type": "execute_result"
    }
   ],
   "source": [
    "42 == '42'"
   ]
  },
  {
   "cell_type": "markdown",
   "metadata": {},
   "source": [
    "### Boolean Operators\n",
    "\n",
    "There are three Boolean operators: and, or, and not.\n",
    "\n",
    "The *and* Operator’s *Truth* Table:\n",
    "\n",
    "| Expression      | Evaluates to |\n",
    "| --------------- | ------------ |\n",
    "| True and True   | True         |\n",
    "| True and False  | False        |\n",
    "| False and True  | False        |\n",
    "| False and False | False        |\n",
    "\n",
    "The *or* Operator’s *Truth* Table:\n",
    "\n",
    "| Expression     | Evaluates to |\n",
    "| -------------- | ------------ |\n",
    "| True or True   | True         |\n",
    "| True or False  | True         |\n",
    "| False or True  | True         |\n",
    "| False or False | False        |\n",
    "\n",
    "The *not* Operator’s *Truth* Table:\n",
    "\n",
    "| Expression | Evaluates to |\n",
    "| ---------- | ------------ |\n",
    "| not True   | False        |\n",
    "| not False  | True         |\n",
    "\n",
    "### Mixing Boolean and Comparison Operators"
   ]
  },
  {
   "cell_type": "code",
   "execution_count": 18,
   "metadata": {},
   "outputs": [
    {
     "data": {
      "text/plain": [
       "True"
      ]
     },
     "execution_count": 18,
     "metadata": {},
     "output_type": "execute_result"
    }
   ],
   "source": [
    "(4 < 5) and (5 < 6)"
   ]
  },
  {
   "cell_type": "code",
   "execution_count": 19,
   "metadata": {},
   "outputs": [
    {
     "data": {
      "text/plain": [
       "True"
      ]
     },
     "execution_count": 19,
     "metadata": {},
     "output_type": "execute_result"
    }
   ],
   "source": [
    "(4 < 5) and not (9 < 6)"
   ]
  },
  {
   "cell_type": "code",
   "execution_count": 20,
   "metadata": {},
   "outputs": [
    {
     "data": {
      "text/plain": [
       "True"
      ]
     },
     "execution_count": 20,
     "metadata": {},
     "output_type": "execute_result"
    }
   ],
   "source": [
    "(1 == 2) or (2 == 2)"
   ]
  },
  {
   "cell_type": "markdown",
   "metadata": {},
   "source": [
    "### if Statements"
   ]
  },
  {
   "cell_type": "code",
   "execution_count": null,
   "metadata": {},
   "outputs": [],
   "source": [
    "name = \"Alice\"\n",
    "if name == 'Alice':\n",
    "    print('Hi, Alice.')"
   ]
  },
  {
   "cell_type": "markdown",
   "metadata": {},
   "source": [
    "### else Statements"
   ]
  },
  {
   "cell_type": "code",
   "execution_count": null,
   "metadata": {},
   "outputs": [],
   "source": [
    "name = 'Bob'\n",
    "\n",
    "if name == 'Alice':\n",
    "    print('Hi, Alice.')\n",
    "else:\n",
    "    print('Hello, stranger.')"
   ]
  },
  {
   "cell_type": "markdown",
   "metadata": {},
   "source": [
    "### elif Statements"
   ]
  },
  {
   "cell_type": "code",
   "execution_count": null,
   "metadata": {},
   "outputs": [],
   "source": [
    "name = 'Bob'\n",
    "age = 5\n",
    "\n",
    "if name == 'Alice':\n",
    "    print('Hi, Alice.')\n",
    "elif age < 12:\n",
    "    print('You are under 12')"
   ]
  },
  {
   "cell_type": "code",
   "execution_count": null,
   "metadata": {},
   "outputs": [],
   "source": [
    "name = 'Bob'\n",
    "age = 30\n",
    "\n",
    "if name == 'Alice':\n",
    "    print('Hi, Alice.')\n",
    "elif age < 12:\n",
    "    print('You are under 12')\n",
    "else:\n",
    "    print('You are neither Alice nor a little kid.')"
   ]
  },
  {
   "cell_type": "markdown",
   "metadata": {},
   "source": [
    "### while Loop Statements"
   ]
  },
  {
   "cell_type": "code",
   "execution_count": 21,
   "metadata": {},
   "outputs": [
    {
     "name": "stdout",
     "output_type": "stream",
     "text": [
      "Hello, world.\n",
      "Hello, world.\n",
      "Hello, world.\n",
      "Hello, world.\n",
      "Hello, world.\n"
     ]
    }
   ],
   "source": [
    "spam = 0\n",
    "\n",
    "while spam < 5:\n",
    "    print('Hello, world.')\n",
    "    spam = spam + 1"
   ]
  },
  {
   "cell_type": "markdown",
   "metadata": {},
   "source": [
    "### break Statements\n",
    "\n",
    " If the execution reaches a break statement, it immediately exits the while loop’s clause:"
   ]
  },
  {
   "cell_type": "code",
   "execution_count": 22,
   "metadata": {},
   "outputs": [
    {
     "name": "stdout",
     "output_type": "stream",
     "text": [
      "Please type your name.\n",
      "joe\n",
      "Please type your name.\n",
      "Alice\n",
      "Thank you!\n"
     ]
    }
   ],
   "source": [
    "while True:\n",
    "    print('Please type your name.')\n",
    "    name = input()\n",
    "    if name == 'Alice':\n",
    "        break\n",
    "\n",
    "print('Thank you!')"
   ]
  },
  {
   "cell_type": "markdown",
   "metadata": {},
   "source": [
    "### continue Statements\n",
    "\n",
    "When the program execution reaches a continue statement, the program execution immediately jumps back to the start of the loop."
   ]
  },
  {
   "cell_type": "code",
   "execution_count": null,
   "metadata": {},
   "outputs": [],
   "source": [
    "while True:\n",
    "    print('Who are you?')\n",
    "    name = input()\n",
    "    if name != 'Joe':\n",
    "        continue\n",
    "    print('Hello, Joe. What is the password? (It is a fish.)')\n",
    "    password = input()\n",
    "    if password == 'swordfish':\n",
    "        break\n",
    "\n",
    "print('Access granted.')"
   ]
  },
  {
   "cell_type": "markdown",
   "metadata": {},
   "source": [
    "### for Loops and the range() Function"
   ]
  },
  {
   "cell_type": "code",
   "execution_count": 23,
   "metadata": {},
   "outputs": [
    {
     "name": "stdout",
     "output_type": "stream",
     "text": [
      "cat\n",
      "dog\n",
      "fish\n"
     ]
    }
   ],
   "source": [
    "for j in [\"cat\", \"dog\", \"fish\"]:\n",
    "    print(j)"
   ]
  },
  {
   "cell_type": "code",
   "execution_count": 24,
   "metadata": {},
   "outputs": [
    {
     "name": "stdout",
     "output_type": "stream",
     "text": [
      "My name is\n",
      "Jimmy Five Times (0)\n",
      "Jimmy Five Times (1)\n",
      "Jimmy Five Times (2)\n",
      "Jimmy Five Times (3)\n",
      "Jimmy Five Times (4)\n"
     ]
    }
   ],
   "source": [
    "print('My name is')\n",
    "for i in range(5):\n",
    "    print(f'Jimmy Five Times ({i})')"
   ]
  },
  {
   "cell_type": "markdown",
   "metadata": {},
   "source": [
    "The *range()* function can also be called with three arguments. The first two arguments will be the start and stop values, and the third will be the step argument. The step is the amount that the variable is increased by after each iteration."
   ]
  },
  {
   "cell_type": "code",
   "execution_count": 25,
   "metadata": {},
   "outputs": [
    {
     "name": "stdout",
     "output_type": "stream",
     "text": [
      "0\n",
      "2\n",
      "4\n",
      "6\n",
      "8\n"
     ]
    }
   ],
   "source": [
    "for i in range(0, 10, 2):\n",
    "    print(i)"
   ]
  },
  {
   "cell_type": "markdown",
   "metadata": {},
   "source": [
    "### For else statement\n",
    "\n",
    "This allows to specify a statement to execute in case of the full loop has been executed. Only\n",
    "useful when a `break` condition can occur in the loop:"
   ]
  },
  {
   "cell_type": "code",
   "execution_count": 27,
   "metadata": {},
   "outputs": [
    {
     "name": "stdout",
     "output_type": "stream",
     "text": [
      "only executed when no item of the list is equal to 3\n"
     ]
    }
   ],
   "source": [
    "for i in [1, 2, 4, 5]:\n",
    "    if i == 3:\n",
    "        break\n",
    "else:\n",
    "    print(\"only executed when no item of the list is equal to 3\")"
   ]
  },
  {
   "cell_type": "markdown",
   "metadata": {},
   "source": [
    "### Importing Modules"
   ]
  },
  {
   "cell_type": "code",
   "execution_count": 28,
   "metadata": {},
   "outputs": [
    {
     "name": "stdout",
     "output_type": "stream",
     "text": [
      "9\n",
      "3\n",
      "6\n",
      "7\n",
      "9\n"
     ]
    }
   ],
   "source": [
    "import random\n",
    "\n",
    "for i in range(5):\n",
    "    print(random.randint(1, 10))"
   ]
  },
  {
   "cell_type": "markdown",
   "metadata": {},
   "source": [
    "## Functions"
   ]
  },
  {
   "cell_type": "code",
   "execution_count": 29,
   "metadata": {},
   "outputs": [],
   "source": [
    "def hello(name):\n",
    "    return f'Hello {name}'"
   ]
  },
  {
   "cell_type": "markdown",
   "metadata": {},
   "source": [
    "## Lists\n",
    "A list is an ordered and mutable Python container, being one of the most common data structures in Python."
   ]
  },
  {
   "cell_type": "code",
   "execution_count": 30,
   "metadata": {},
   "outputs": [
    {
     "data": {
      "text/plain": [
       "['cat', 'bat', 'rat', 'elephant', 5]"
      ]
     },
     "execution_count": 30,
     "metadata": {},
     "output_type": "execute_result"
    }
   ],
   "source": [
    "['cat', 'bat', 'rat', 'elephant', 5]"
   ]
  },
  {
   "cell_type": "markdown",
   "metadata": {},
   "source": [
    "### Getting Individual Values in a List with Indexes"
   ]
  },
  {
   "cell_type": "code",
   "execution_count": 31,
   "metadata": {},
   "outputs": [
    {
     "data": {
      "text/plain": [
       "'cat'"
      ]
     },
     "execution_count": 31,
     "metadata": {},
     "output_type": "execute_result"
    }
   ],
   "source": [
    "spam = ['cat', 'bat', 'rat', 'elephant']\n",
    "spam[0]"
   ]
  },
  {
   "cell_type": "markdown",
   "metadata": {},
   "source": [
    "### Negative Indexes"
   ]
  },
  {
   "cell_type": "code",
   "execution_count": 32,
   "metadata": {},
   "outputs": [
    {
     "data": {
      "text/plain": [
       "'elephant'"
      ]
     },
     "execution_count": 32,
     "metadata": {},
     "output_type": "execute_result"
    }
   ],
   "source": [
    "spam = ['cat', 'bat', 'rat', 'elephant']\n",
    "spam[-1]"
   ]
  },
  {
   "cell_type": "markdown",
   "metadata": {},
   "source": [
    "### Getting Sublists with Slices"
   ]
  },
  {
   "cell_type": "code",
   "execution_count": 33,
   "metadata": {},
   "outputs": [
    {
     "data": {
      "text/plain": [
       "['cat', 'bat', 'rat']"
      ]
     },
     "execution_count": 33,
     "metadata": {},
     "output_type": "execute_result"
    }
   ],
   "source": [
    "spam = ['cat', 'bat', 'rat', 'elephant']\n",
    "spam[0:3]"
   ]
  },
  {
   "cell_type": "code",
   "execution_count": 34,
   "metadata": {},
   "outputs": [
    {
     "data": {
      "text/plain": [
       "['cat', 'bat']"
      ]
     },
     "execution_count": 34,
     "metadata": {},
     "output_type": "execute_result"
    }
   ],
   "source": [
    "spam = ['cat', 'bat', 'rat', 'elephant']\n",
    "spam[:2]"
   ]
  },
  {
   "cell_type": "code",
   "execution_count": 35,
   "metadata": {},
   "outputs": [
    {
     "data": {
      "text/plain": [
       "['bat', 'rat', 'elephant']"
      ]
     },
     "execution_count": 35,
     "metadata": {},
     "output_type": "execute_result"
    }
   ],
   "source": [
    "spam[1:]"
   ]
  },
  {
   "cell_type": "code",
   "execution_count": 36,
   "metadata": {},
   "outputs": [
    {
     "data": {
      "text/plain": [
       "['cat', 'bat', 'rat', 'elephant']"
      ]
     },
     "execution_count": 36,
     "metadata": {},
     "output_type": "execute_result"
    }
   ],
   "source": [
    "spam[:]"
   ]
  },
  {
   "cell_type": "markdown",
   "metadata": {},
   "source": [
    "### Changing Values in a List with Indexes"
   ]
  },
  {
   "cell_type": "code",
   "execution_count": 37,
   "metadata": {},
   "outputs": [
    {
     "data": {
      "text/plain": [
       "['cat', 'ant', 'rat', 'elephant']"
      ]
     },
     "execution_count": 37,
     "metadata": {},
     "output_type": "execute_result"
    }
   ],
   "source": [
    "spam = ['cat', 'bat', 'rat', 'elephant']\n",
    "spam[1] = 'ant'\n",
    "spam"
   ]
  },
  {
   "cell_type": "markdown",
   "metadata": {},
   "source": [
    "### List Concatenation and List Replication"
   ]
  },
  {
   "cell_type": "code",
   "execution_count": 38,
   "metadata": {},
   "outputs": [
    {
     "data": {
      "text/plain": [
       "[1, 2, 3, 'A', 'B', 'C']"
      ]
     },
     "execution_count": 38,
     "metadata": {},
     "output_type": "execute_result"
    }
   ],
   "source": [
    "[1, 2, 3] + ['A', 'B', 'C']"
   ]
  },
  {
   "cell_type": "code",
   "execution_count": 39,
   "metadata": {},
   "outputs": [
    {
     "data": {
      "text/plain": [
       "['X', 'Y', 'Z', 'X', 'Y', 'Z', 'X', 'Y', 'Z']"
      ]
     },
     "execution_count": 39,
     "metadata": {},
     "output_type": "execute_result"
    }
   ],
   "source": [
    "['X', 'Y', 'Z'] * 3"
   ]
  },
  {
   "cell_type": "code",
   "execution_count": 40,
   "metadata": {},
   "outputs": [
    {
     "data": {
      "text/plain": [
       "[1, 2, 3, 'A', 'B', 'C']"
      ]
     },
     "execution_count": 40,
     "metadata": {},
     "output_type": "execute_result"
    }
   ],
   "source": [
    "spam = [1, 2, 3]\n",
    "spam = spam + ['A', 'B', 'C']\n",
    "spam"
   ]
  },
  {
   "cell_type": "markdown",
   "metadata": {},
   "source": [
    "### Removing Values from Lists with del Statements"
   ]
  },
  {
   "cell_type": "code",
   "execution_count": 41,
   "metadata": {},
   "outputs": [
    {
     "data": {
      "text/plain": [
       "['cat', 'bat', 'elephant']"
      ]
     },
     "execution_count": 41,
     "metadata": {},
     "output_type": "execute_result"
    }
   ],
   "source": [
    "spam = ['cat', 'bat', 'rat', 'elephant']\n",
    "del spam[2]\n",
    "spam"
   ]
  },
  {
   "cell_type": "code",
   "execution_count": 42,
   "metadata": {},
   "outputs": [
    {
     "data": {
      "text/plain": [
       "['cat', 'bat']"
      ]
     },
     "execution_count": 42,
     "metadata": {},
     "output_type": "execute_result"
    }
   ],
   "source": [
    "del spam[2]\n",
    "spam"
   ]
  },
  {
   "cell_type": "markdown",
   "metadata": {},
   "source": [
    "### Using for Loops with Lists"
   ]
  },
  {
   "cell_type": "code",
   "execution_count": 43,
   "metadata": {},
   "outputs": [
    {
     "name": "stdout",
     "output_type": "stream",
     "text": [
      "pens\n",
      "staplers\n",
      "flame-throwers\n",
      "binders\n"
     ]
    }
   ],
   "source": [
    "supplies = ['pens', 'staplers', 'flame-throwers', 'binders']\n",
    "\n",
    "for i in supplies:\n",
    "    print(i)"
   ]
  },
  {
   "cell_type": "markdown",
   "metadata": {},
   "source": [
    "### The in and not in Operators"
   ]
  },
  {
   "cell_type": "code",
   "execution_count": 44,
   "metadata": {},
   "outputs": [
    {
     "data": {
      "text/plain": [
       "True"
      ]
     },
     "execution_count": 44,
     "metadata": {},
     "output_type": "execute_result"
    }
   ],
   "source": [
    "'howdy' in ['hello', 'hi', 'howdy', 'heyas']"
   ]
  },
  {
   "cell_type": "code",
   "execution_count": 45,
   "metadata": {},
   "outputs": [
    {
     "data": {
      "text/plain": [
       "1"
      ]
     },
     "execution_count": 45,
     "metadata": {},
     "output_type": "execute_result"
    }
   ],
   "source": [
    "spam = ['Zophie', 'Pooka', 'Fat-tail', 'Pooka']\n",
    "spam.index('Pooka')"
   ]
  },
  {
   "cell_type": "markdown",
   "metadata": {},
   "source": [
    "### Adding Values to Lists with append and insert\n",
    "\n",
    "**append()**:"
   ]
  },
  {
   "cell_type": "code",
   "execution_count": 46,
   "metadata": {},
   "outputs": [
    {
     "data": {
      "text/plain": [
       "['cat', 'dog', 'bat', 'moose']"
      ]
     },
     "execution_count": 46,
     "metadata": {},
     "output_type": "execute_result"
    }
   ],
   "source": [
    "spam = ['cat', 'dog', 'bat']\n",
    "spam.append('moose')\n",
    "spam"
   ]
  },
  {
   "cell_type": "markdown",
   "metadata": {},
   "source": [
    "**insert()**:"
   ]
  },
  {
   "cell_type": "code",
   "execution_count": 47,
   "metadata": {},
   "outputs": [
    {
     "data": {
      "text/plain": [
       "['cat', 'chicken', 'dog', 'bat']"
      ]
     },
     "execution_count": 47,
     "metadata": {},
     "output_type": "execute_result"
    }
   ],
   "source": [
    "spam = ['cat', 'dog', 'bat']\n",
    "spam.insert(1, 'chicken')\n",
    "spam"
   ]
  },
  {
   "cell_type": "markdown",
   "metadata": {},
   "source": [
    "### Removing Values from Lists with remove"
   ]
  },
  {
   "cell_type": "code",
   "execution_count": 48,
   "metadata": {},
   "outputs": [
    {
     "data": {
      "text/plain": [
       "['cat', 'rat', 'elephant']"
      ]
     },
     "execution_count": 48,
     "metadata": {},
     "output_type": "execute_result"
    }
   ],
   "source": [
    "spam = ['cat', 'bat', 'rat', 'elephant']\n",
    "spam.remove('bat')\n",
    "spam"
   ]
  },
  {
   "cell_type": "markdown",
   "metadata": {},
   "source": [
    "If the value appears multiple times in the list, only the first instance of the value will be removed.\n",
    "\n",
    "### Sorting the Values in a List with sort"
   ]
  },
  {
   "cell_type": "code",
   "execution_count": 49,
   "metadata": {},
   "outputs": [
    {
     "data": {
      "text/plain": [
       "[-7, 1, 2, 3.14, 5]"
      ]
     },
     "execution_count": 49,
     "metadata": {},
     "output_type": "execute_result"
    }
   ],
   "source": [
    "spam = [2, 5, 3.14, 1, -7]\n",
    "spam.sort()\n",
    "spam"
   ]
  },
  {
   "cell_type": "code",
   "execution_count": 50,
   "metadata": {},
   "outputs": [
    {
     "data": {
      "text/plain": [
       "['ants', 'badgers', 'cats', 'dogs', 'elephants']"
      ]
     },
     "execution_count": 50,
     "metadata": {},
     "output_type": "execute_result"
    }
   ],
   "source": [
    "spam = ['ants', 'cats', 'dogs', 'badgers', 'elephants']\n",
    "spam.sort()\n",
    "spam"
   ]
  },
  {
   "cell_type": "markdown",
   "metadata": {},
   "source": [
    "You can also pass True for the reverse keyword argument to have sort() sort the values in reverse order:"
   ]
  },
  {
   "cell_type": "code",
   "execution_count": 51,
   "metadata": {},
   "outputs": [
    {
     "data": {
      "text/plain": [
       "['elephants', 'dogs', 'cats', 'badgers', 'ants']"
      ]
     },
     "execution_count": 51,
     "metadata": {},
     "output_type": "execute_result"
    }
   ],
   "source": [
    "spam.sort(reverse=True)\n",
    "spam"
   ]
  },
  {
   "cell_type": "markdown",
   "metadata": {},
   "source": [
    "## Tuple Data Type"
   ]
  },
  {
   "cell_type": "code",
   "execution_count": 52,
   "metadata": {},
   "outputs": [
    {
     "data": {
      "text/plain": [
       "'hello'"
      ]
     },
     "execution_count": 52,
     "metadata": {},
     "output_type": "execute_result"
    }
   ],
   "source": [
    "eggs = ('hello', 42, 0.5)\n",
    "eggs[0]"
   ]
  },
  {
   "cell_type": "code",
   "execution_count": 53,
   "metadata": {},
   "outputs": [
    {
     "data": {
      "text/plain": [
       "(42, 0.5)"
      ]
     },
     "execution_count": 53,
     "metadata": {},
     "output_type": "execute_result"
    }
   ],
   "source": [
    "eggs[1:3]"
   ]
  },
  {
   "cell_type": "code",
   "execution_count": 54,
   "metadata": {},
   "outputs": [
    {
     "data": {
      "text/plain": [
       "3"
      ]
     },
     "execution_count": 54,
     "metadata": {},
     "output_type": "execute_result"
    }
   ],
   "source": [
    "len(eggs)"
   ]
  },
  {
   "cell_type": "code",
   "execution_count": 55,
   "metadata": {},
   "outputs": [
    {
     "ename": "TypeError",
     "evalue": "'tuple' object does not support item assignment",
     "output_type": "error",
     "traceback": [
      "\u001b[0;31m---------------------------------------------------------------------------\u001b[0m",
      "\u001b[0;31mTypeError\u001b[0m                                 Traceback (most recent call last)",
      "\u001b[0;32m<ipython-input-55-619c19da9d6d>\u001b[0m in \u001b[0;36m<module>\u001b[0;34m\u001b[0m\n\u001b[0;32m----> 1\u001b[0;31m \u001b[0meggs\u001b[0m\u001b[0;34m[\u001b[0m\u001b[0;36m0\u001b[0m\u001b[0;34m]\u001b[0m \u001b[0;34m=\u001b[0m \u001b[0;34m\"Hello\"\u001b[0m\u001b[0;34m\u001b[0m\u001b[0;34m\u001b[0m\u001b[0m\n\u001b[0m",
      "\u001b[0;31mTypeError\u001b[0m: 'tuple' object does not support item assignment"
     ]
    }
   ],
   "source": [
    "eggs[0] = \"Hello\""
   ]
  },
  {
   "cell_type": "markdown",
   "metadata": {},
   "source": [
    "## Dictionaries and Structuring Data\n",
    "\n",
    "Example Dictionary:"
   ]
  },
  {
   "cell_type": "code",
   "execution_count": null,
   "metadata": {},
   "outputs": [],
   "source": [
    "myCat = {'size': 'fat', 'color': 'gray', 'disposition': 'loud'}"
   ]
  },
  {
   "cell_type": "markdown",
   "metadata": {},
   "source": [
    "### The keys, values, and items Methods\n",
    "\n",
    "values():"
   ]
  },
  {
   "cell_type": "code",
   "execution_count": 56,
   "metadata": {},
   "outputs": [
    {
     "name": "stdout",
     "output_type": "stream",
     "text": [
      "red\n",
      "42\n"
     ]
    }
   ],
   "source": [
    "spam = {'color': 'red', 'age': 42}\n",
    "\n",
    "for v in spam.values():\n",
    "    print(v)"
   ]
  },
  {
   "cell_type": "markdown",
   "metadata": {},
   "source": [
    "keys():"
   ]
  },
  {
   "cell_type": "code",
   "execution_count": 57,
   "metadata": {},
   "outputs": [
    {
     "name": "stdout",
     "output_type": "stream",
     "text": [
      "color\n",
      "age\n"
     ]
    }
   ],
   "source": [
    "for k in spam.keys():\n",
    "    print(k)"
   ]
  },
  {
   "cell_type": "markdown",
   "metadata": {},
   "source": [
    "items():"
   ]
  },
  {
   "cell_type": "code",
   "execution_count": 58,
   "metadata": {},
   "outputs": [
    {
     "name": "stdout",
     "output_type": "stream",
     "text": [
      "('color', 'red')\n",
      "('age', 42)\n"
     ]
    }
   ],
   "source": [
    "for i in spam.items():\n",
    "    print(i)"
   ]
  },
  {
   "cell_type": "markdown",
   "metadata": {},
   "source": [
    "### Checking if a Key or Value Exists in a Dictionary"
   ]
  },
  {
   "cell_type": "code",
   "execution_count": 59,
   "metadata": {},
   "outputs": [
    {
     "data": {
      "text/plain": [
       "True"
      ]
     },
     "execution_count": 59,
     "metadata": {},
     "output_type": "execute_result"
    }
   ],
   "source": [
    "spam = {'name': 'Zophie', 'age': 7}\n",
    "'name' in spam.keys()"
   ]
  },
  {
   "cell_type": "code",
   "execution_count": 60,
   "metadata": {},
   "outputs": [
    {
     "data": {
      "text/plain": [
       "True"
      ]
     },
     "execution_count": 60,
     "metadata": {},
     "output_type": "execute_result"
    }
   ],
   "source": [
    "'Zophie' in spam.values()"
   ]
  },
  {
   "cell_type": "code",
   "execution_count": 61,
   "metadata": {},
   "outputs": [
    {
     "data": {
      "text/plain": [
       "False"
      ]
     },
     "execution_count": 61,
     "metadata": {},
     "output_type": "execute_result"
    }
   ],
   "source": [
    "# You can omit the call to keys() when checking for a key\n",
    "'color' in spam"
   ]
  },
  {
   "cell_type": "code",
   "execution_count": 62,
   "metadata": {},
   "outputs": [
    {
     "data": {
      "text/plain": [
       "True"
      ]
     },
     "execution_count": 62,
     "metadata": {},
     "output_type": "execute_result"
    }
   ],
   "source": [
    "'color' not in spam"
   ]
  },
  {
   "cell_type": "code",
   "execution_count": 63,
   "metadata": {},
   "outputs": [
    {
     "data": {
      "text/plain": [
       "False"
      ]
     },
     "execution_count": 63,
     "metadata": {},
     "output_type": "execute_result"
    }
   ],
   "source": [
    "'color' in spam"
   ]
  },
  {
   "cell_type": "markdown",
   "metadata": {},
   "source": [
    "## sets\n",
    "\n",
    "From the Python 3 [documentation](https://docs.python.org/3/tutorial/datastructures.html)\n",
    "\n",
    "> A set is an unordered collection with no duplicate elements. Basic uses include membership testing and eliminating duplicate entries. Set objects also support mathematical operations like union, intersection, difference, and symmetric difference.\n",
    "\n",
    "### Initializing a set\n",
    "\n",
    "There are two ways to create sets: using curly braces `{}` and the bult-in function `set()`"
   ]
  },
  {
   "cell_type": "code",
   "execution_count": null,
   "metadata": {},
   "outputs": [],
   "source": [
    "s = {1, 2, 3}\n",
    "s = set([1, 2, 3])"
   ]
  },
  {
   "cell_type": "markdown",
   "metadata": {},
   "source": [
    "### sets: unordered collections of unique elements\n",
    "\n",
    "A set automatically remove all the duplicate values."
   ]
  },
  {
   "cell_type": "code",
   "execution_count": null,
   "metadata": {},
   "outputs": [],
   "source": [
    "s = {1, 2, 3, 2, 3, 4}\n",
    "s"
   ]
  },
  {
   "cell_type": "markdown",
   "metadata": {},
   "source": [
    "And as an unordered data type, they can't be indexed."
   ]
  },
  {
   "cell_type": "code",
   "execution_count": 64,
   "metadata": {},
   "outputs": [
    {
     "ename": "TypeError",
     "evalue": "'set' object is not callable",
     "output_type": "error",
     "traceback": [
      "\u001b[0;31m---------------------------------------------------------------------------\u001b[0m",
      "\u001b[0;31mTypeError\u001b[0m                                 Traceback (most recent call last)",
      "\u001b[0;32m<ipython-input-64-26913a43d685>\u001b[0m in \u001b[0;36m<module>\u001b[0;34m\u001b[0m\n\u001b[1;32m      1\u001b[0m \u001b[0ms\u001b[0m \u001b[0;34m=\u001b[0m \u001b[0;34m{\u001b[0m\u001b[0;36m1\u001b[0m\u001b[0;34m,\u001b[0m \u001b[0;36m2\u001b[0m\u001b[0;34m,\u001b[0m \u001b[0;36m3\u001b[0m\u001b[0;34m}\u001b[0m\u001b[0;34m\u001b[0m\u001b[0;34m\u001b[0m\u001b[0m\n\u001b[0;32m----> 2\u001b[0;31m \u001b[0ms\u001b[0m\u001b[0;34m(\u001b[0m\u001b[0;36m0\u001b[0m\u001b[0;34m)\u001b[0m\u001b[0;34m\u001b[0m\u001b[0;34m\u001b[0m\u001b[0m\n\u001b[0m",
      "\u001b[0;31mTypeError\u001b[0m: 'set' object is not callable"
     ]
    }
   ],
   "source": [
    "s = {1, 2, 3}\n",
    "s(0)"
   ]
  },
  {
   "cell_type": "markdown",
   "metadata": {},
   "source": [
    "### set add and update\n",
    "\n",
    "Using the `add()` method we can add a single element to the set."
   ]
  },
  {
   "cell_type": "code",
   "execution_count": 65,
   "metadata": {},
   "outputs": [
    {
     "data": {
      "text/plain": [
       "{1, 2, 3, 4}"
      ]
     },
     "execution_count": 65,
     "metadata": {},
     "output_type": "execute_result"
    }
   ],
   "source": [
    "s = {1, 2, 3}\n",
    "s.add(4)\n",
    "s"
   ]
  },
  {
   "cell_type": "markdown",
   "metadata": {},
   "source": [
    "And with `update()`, multiple ones ."
   ]
  },
  {
   "cell_type": "code",
   "execution_count": 66,
   "metadata": {},
   "outputs": [
    {
     "data": {
      "text/plain": [
       "{1, 2, 3, 4, 5, 6}"
      ]
     },
     "execution_count": 66,
     "metadata": {},
     "output_type": "execute_result"
    }
   ],
   "source": [
    "s = {1, 2, 3}\n",
    "s.update([2, 3, 4, 5, 6])\n",
    "s  # remember, sets automatically remove duplicates"
   ]
  },
  {
   "cell_type": "markdown",
   "metadata": {},
   "source": [
    "### set remove and discard\n",
    "\n",
    "Both methods will remove an element from the set, but `remove()` will raise a `key error` if the value doesn't exist."
   ]
  },
  {
   "cell_type": "code",
   "execution_count": 67,
   "metadata": {},
   "outputs": [
    {
     "data": {
      "text/plain": [
       "{1, 2}"
      ]
     },
     "execution_count": 67,
     "metadata": {},
     "output_type": "execute_result"
    }
   ],
   "source": [
    "s = {1, 2, 3}\n",
    "s.remove(3)\n",
    "s"
   ]
  },
  {
   "cell_type": "code",
   "execution_count": 68,
   "metadata": {},
   "outputs": [
    {
     "ename": "KeyError",
     "evalue": "3",
     "output_type": "error",
     "traceback": [
      "\u001b[0;31m---------------------------------------------------------------------------\u001b[0m",
      "\u001b[0;31mKeyError\u001b[0m                                  Traceback (most recent call last)",
      "\u001b[0;32m<ipython-input-68-b06e0f5ff900>\u001b[0m in \u001b[0;36m<module>\u001b[0;34m\u001b[0m\n\u001b[0;32m----> 1\u001b[0;31m \u001b[0ms\u001b[0m\u001b[0;34m.\u001b[0m\u001b[0mremove\u001b[0m\u001b[0;34m(\u001b[0m\u001b[0;36m3\u001b[0m\u001b[0;34m)\u001b[0m\u001b[0;34m\u001b[0m\u001b[0;34m\u001b[0m\u001b[0m\n\u001b[0m",
      "\u001b[0;31mKeyError\u001b[0m: 3"
     ]
    }
   ],
   "source": [
    "s.remove(3)"
   ]
  },
  {
   "cell_type": "markdown",
   "metadata": {},
   "source": [
    "`discard()` won't raise any errors."
   ]
  },
  {
   "cell_type": "code",
   "execution_count": 69,
   "metadata": {},
   "outputs": [
    {
     "data": {
      "text/plain": [
       "{1, 2}"
      ]
     },
     "execution_count": 69,
     "metadata": {},
     "output_type": "execute_result"
    }
   ],
   "source": [
    "s = {1, 2, 3}\n",
    "s.discard(3)\n",
    "s"
   ]
  },
  {
   "cell_type": "code",
   "execution_count": 70,
   "metadata": {},
   "outputs": [],
   "source": [
    "s.discard(3)"
   ]
  },
  {
   "cell_type": "markdown",
   "metadata": {},
   "source": [
    "# Numpy\n",
    "\n",
    "NumPy is a library for the Python programming language, adding support for large, multi-dimensional arrays and matrices, along with a large collection of high-level mathematical functions to operate on these arrays."
   ]
  },
  {
   "cell_type": "code",
   "execution_count": 72,
   "metadata": {},
   "outputs": [],
   "source": [
    "import numpy as np"
   ]
  },
  {
   "cell_type": "markdown",
   "metadata": {},
   "source": [
    "### Array Creation"
   ]
  },
  {
   "cell_type": "code",
   "execution_count": 75,
   "metadata": {},
   "outputs": [
    {
     "name": "stdout",
     "output_type": "stream",
     "text": [
      "[2 3 4]\n",
      "(3,)\n",
      "int64\n"
     ]
    }
   ],
   "source": [
    "a = np.array([2, 3, 4])\n",
    "print(a)\n",
    "print(a.shape)\n",
    "print(a.dtype)"
   ]
  },
  {
   "cell_type": "code",
   "execution_count": 76,
   "metadata": {},
   "outputs": [
    {
     "name": "stdout",
     "output_type": "stream",
     "text": [
      "(3,)\n",
      "uint8\n"
     ]
    }
   ],
   "source": [
    "b = np.array([1,2,3], dtype=np.uint8)\n",
    "print(b.shape)\n",
    "print(b.dtype)"
   ]
  },
  {
   "cell_type": "code",
   "execution_count": 77,
   "metadata": {},
   "outputs": [
    {
     "name": "stdout",
     "output_type": "stream",
     "text": [
      "[[1 2 3]\n",
      " [4 5 6]]\n",
      "(2, 3)\n",
      "uint16\n"
     ]
    }
   ],
   "source": [
    "c = np.array([[1,2,3], [4,5,6]], dtype=np.uint16)\n",
    "print(c)\n",
    "print(c.shape)\n",
    "print(c.dtype)"
   ]
  },
  {
   "cell_type": "markdown",
   "metadata": {},
   "source": [
    "### Place Holders"
   ]
  },
  {
   "cell_type": "code",
   "execution_count": 78,
   "metadata": {},
   "outputs": [
    {
     "data": {
      "text/plain": [
       "array([[0., 0., 0., 0.],\n",
       "       [0., 0., 0., 0.],\n",
       "       [0., 0., 0., 0.]])"
      ]
     },
     "execution_count": 78,
     "metadata": {},
     "output_type": "execute_result"
    }
   ],
   "source": [
    "# All Zero\n",
    "np.zeros((3, 4))"
   ]
  },
  {
   "cell_type": "code",
   "execution_count": 79,
   "metadata": {},
   "outputs": [
    {
     "data": {
      "text/plain": [
       "array([[[1, 1, 1, 1],\n",
       "        [1, 1, 1, 1],\n",
       "        [1, 1, 1, 1]],\n",
       "\n",
       "       [[1, 1, 1, 1],\n",
       "        [1, 1, 1, 1],\n",
       "        [1, 1, 1, 1]]], dtype=int16)"
      ]
     },
     "execution_count": 79,
     "metadata": {},
     "output_type": "execute_result"
    }
   ],
   "source": [
    "np.ones((2, 3, 4), dtype=np.int16)"
   ]
  },
  {
   "cell_type": "code",
   "execution_count": 80,
   "metadata": {},
   "outputs": [
    {
     "data": {
      "text/plain": [
       "array([[4.66347369e-310, 0.00000000e+000, 0.00000000e+000],\n",
       "       [0.00000000e+000, 0.00000000e+000, 0.00000000e+000]])"
      ]
     },
     "execution_count": 80,
     "metadata": {},
     "output_type": "execute_result"
    }
   ],
   "source": [
    "np.empty((2, 3))"
   ]
  },
  {
   "cell_type": "markdown",
   "metadata": {},
   "source": [
    "### For a range of numbers"
   ]
  },
  {
   "cell_type": "code",
   "execution_count": 81,
   "metadata": {},
   "outputs": [
    {
     "data": {
      "text/plain": [
       "array([10, 15, 20, 25])"
      ]
     },
     "execution_count": 81,
     "metadata": {},
     "output_type": "execute_result"
    }
   ],
   "source": [
    "np.arange(10, 30, 5)"
   ]
  },
  {
   "cell_type": "code",
   "execution_count": 82,
   "metadata": {},
   "outputs": [
    {
     "data": {
      "text/plain": [
       "array([0. , 0.3, 0.6, 0.9, 1.2, 1.5, 1.8])"
      ]
     },
     "execution_count": 82,
     "metadata": {},
     "output_type": "execute_result"
    }
   ],
   "source": [
    "np.arange(0, 2, 0.3)"
   ]
  },
  {
   "cell_type": "code",
   "execution_count": 83,
   "metadata": {},
   "outputs": [
    {
     "data": {
      "text/plain": [
       "array([0.  , 0.25, 0.5 , 0.75, 1.  , 1.25, 1.5 , 1.75, 2.  ])"
      ]
     },
     "execution_count": 83,
     "metadata": {},
     "output_type": "execute_result"
    }
   ],
   "source": [
    "np.linspace(0, 2, 9)"
   ]
  },
  {
   "cell_type": "code",
   "execution_count": 84,
   "metadata": {},
   "outputs": [
    {
     "data": {
      "text/plain": [
       "array([[ 0,  1,  2],\n",
       "       [ 3,  4,  5],\n",
       "       [ 6,  7,  8],\n",
       "       [ 9, 10, 11]])"
      ]
     },
     "execution_count": 84,
     "metadata": {},
     "output_type": "execute_result"
    }
   ],
   "source": [
    "np.arange(12).reshape(4, 3)"
   ]
  },
  {
   "cell_type": "code",
   "execution_count": null,
   "metadata": {},
   "outputs": [],
   "source": []
  },
  {
   "cell_type": "markdown",
   "metadata": {},
   "source": [
    "### Basic Operations"
   ]
  },
  {
   "cell_type": "code",
   "execution_count": 85,
   "metadata": {},
   "outputs": [],
   "source": [
    "a = np.array([20, 30, 40, 50])\n",
    "b = np.array([0, 1, 2, 3])"
   ]
  },
  {
   "cell_type": "code",
   "execution_count": 86,
   "metadata": {},
   "outputs": [
    {
     "data": {
      "text/plain": [
       "array([20, 29, 38, 47])"
      ]
     },
     "execution_count": 86,
     "metadata": {},
     "output_type": "execute_result"
    }
   ],
   "source": [
    "a - b"
   ]
  },
  {
   "cell_type": "code",
   "execution_count": 88,
   "metadata": {},
   "outputs": [
    {
     "data": {
      "text/plain": [
       "array([0, 1, 4, 9])"
      ]
     },
     "execution_count": 88,
     "metadata": {},
     "output_type": "execute_result"
    }
   ],
   "source": [
    "b ** 2"
   ]
  },
  {
   "cell_type": "code",
   "execution_count": 89,
   "metadata": {},
   "outputs": [
    {
     "data": {
      "text/plain": [
       "array([ 9.12945251, -9.88031624,  7.4511316 , -2.62374854])"
      ]
     },
     "execution_count": 89,
     "metadata": {},
     "output_type": "execute_result"
    }
   ],
   "source": [
    "10 * np.sin(a)"
   ]
  },
  {
   "cell_type": "code",
   "execution_count": 90,
   "metadata": {},
   "outputs": [
    {
     "data": {
      "text/plain": [
       "array([ True,  True, False, False])"
      ]
     },
     "execution_count": 90,
     "metadata": {},
     "output_type": "execute_result"
    }
   ],
   "source": [
    "a < 35"
   ]
  },
  {
   "cell_type": "code",
   "execution_count": 91,
   "metadata": {},
   "outputs": [
    {
     "name": "stdout",
     "output_type": "stream",
     "text": [
      "[[2 0]\n",
      " [0 4]]\n",
      "\n",
      "[[5 4]\n",
      " [3 4]]\n",
      "\n",
      "[[5 4]\n",
      " [3 4]]\n"
     ]
    }
   ],
   "source": [
    "A = np.array([[1, 1],\n",
    "              [0, 1]])\n",
    "B = np.array([[2, 0],\n",
    "              [3, 4]])\n",
    "\n",
    "# elementwise product\n",
    "print(A * B)\n",
    "print(\"\")\n",
    "# matrix product\n",
    "print(A @ B)\n",
    "print(\"\")\n",
    "print(A.dot(B))"
   ]
  },
  {
   "cell_type": "code",
   "execution_count": 92,
   "metadata": {},
   "outputs": [
    {
     "data": {
      "text/plain": [
       "array([[ 0,  1,  2,  3],\n",
       "       [ 4,  5,  6,  7],\n",
       "       [ 8,  9, 10, 11]])"
      ]
     },
     "execution_count": 92,
     "metadata": {},
     "output_type": "execute_result"
    }
   ],
   "source": [
    "b = np.arange(12).reshape(3, 4)\n",
    "b"
   ]
  },
  {
   "cell_type": "code",
   "execution_count": 99,
   "metadata": {},
   "outputs": [
    {
     "data": {
      "text/plain": [
       "array([12, 15, 18, 21])"
      ]
     },
     "execution_count": 99,
     "metadata": {},
     "output_type": "execute_result"
    }
   ],
   "source": [
    "b.sum(axis=0)"
   ]
  },
  {
   "cell_type": "code",
   "execution_count": 94,
   "metadata": {},
   "outputs": [
    {
     "data": {
      "text/plain": [
       "array([0, 4, 8])"
      ]
     },
     "execution_count": 94,
     "metadata": {},
     "output_type": "execute_result"
    }
   ],
   "source": [
    "b.min(axis=1)"
   ]
  },
  {
   "cell_type": "markdown",
   "metadata": {},
   "source": [
    "### Indexing, Slicing"
   ]
  },
  {
   "cell_type": "code",
   "execution_count": 95,
   "metadata": {},
   "outputs": [
    {
     "data": {
      "text/plain": [
       "1"
      ]
     },
     "execution_count": 95,
     "metadata": {},
     "output_type": "execute_result"
    }
   ],
   "source": [
    "b[0, 1]"
   ]
  },
  {
   "cell_type": "code",
   "execution_count": 96,
   "metadata": {},
   "outputs": [
    {
     "data": {
      "text/plain": [
       "array([1, 5])"
      ]
     },
     "execution_count": 96,
     "metadata": {},
     "output_type": "execute_result"
    }
   ],
   "source": [
    "b[:2, 1]"
   ]
  },
  {
   "cell_type": "code",
   "execution_count": 97,
   "metadata": {},
   "outputs": [
    {
     "data": {
      "text/plain": [
       "array([0, 2])"
      ]
     },
     "execution_count": 97,
     "metadata": {},
     "output_type": "execute_result"
    }
   ],
   "source": [
    "b[0, 0:4:2]"
   ]
  },
  {
   "cell_type": "markdown",
   "metadata": {},
   "source": [
    "### File"
   ]
  },
  {
   "cell_type": "code",
   "execution_count": 100,
   "metadata": {
    "scrolled": true
   },
   "outputs": [
    {
     "name": "stdout",
     "output_type": "stream",
     "text": [
      "x1,x2\n",
      "\n",
      "2.61872672203542,0.706046135180411\n",
      "\n",
      "4.87339080173597,4.77759704011405\n",
      "\n",
      "6.31977031009498,5.8616824446801\n",
      "\n",
      "4.47782353602643,4.74861495994492\n",
      "\n",
      "1.07780898991488,0.87951421637184\n",
      "\n",
      "0.63575468360456,1.0761353375097\n",
      "\n",
      "4.7050875991835,1.0596926256525\n",
      "\n",
      "4.65820874873385,5.40532318631263\n",
      "\n",
      "5.72567889595912,4.23081855448231\n",
      "\n",
      "1.80893420579701,3.24203886198709\n",
      "\n",
      "5.05745722074497,4.71448478720157\n",
      "\n",
      "2.22463063772548,1.70095226815204\n",
      "\n",
      "2.29872028728524,2.68503592142626\n",
      "\n",
      "6.00832274899596,4.31121215324761\n",
      "\n",
      "5.43703552209143,5.33904748021403\n",
      "\n",
      "1.72570618460002,4.12199438060018\n",
      "\n",
      "5.62004569341995,5.38104613615482\n",
      "\n",
      "5.20063954406517,5.45381899809471\n",
      "\n",
      "0.471780062210477,1.7068613019596\n",
      "\n",
      "4.90201028667302,6.50737625917555\n",
      "\n",
      "4.02416312030374,4.64998928340235\n",
      "\n",
      "3.52063048088216,4.04605156217839\n",
      "\n",
      "1.76028128161167,1.69159847602701\n",
      "\n",
      "2.57381981521219,0.0562868192920949\n",
      "\n",
      "1.64275504852362,2.38204789641092\n",
      "\n",
      "2.10718812005293,1.95083192404324\n",
      "\n",
      "4.83604682690665,5.74940446640861\n",
      "\n",
      "3.12819472838385,3.38959973435104\n",
      "\n",
      "4.64059073272832,3.92102199401477\n",
      "\n",
      "2.46692855936655,4.28470664507734\n",
      "\n",
      "1.6640154307907,1.49236046789421\n",
      "\n",
      "5.99914162895186,4.40281637717962\n",
      "\n",
      "5.25093184764284,4.11733229644549\n",
      "\n",
      "4.1971885789393,2.77973285183532\n",
      "\n",
      "3.41488748090422,6.56407528974627\n",
      "\n",
      "4.23495637924796,5.84662489175995\n",
      "\n",
      "3.10721049907955,1.11468457886153\n",
      "\n",
      "1.65015413798921,1.45752042746745\n",
      "\n",
      "4.18538435536801,5.40357514545557\n",
      "\n",
      "1.33200167706557,3.02556962755268\n",
      "\n",
      "4.55459337285015,4.25206198310195\n",
      "\n",
      "3.25177898633177,5.93504077776945\n",
      "\n",
      "1.69128662261662,2.30027633776933\n",
      "\n",
      "1.26599191449114,1.28540054462424\n",
      "\n",
      "3.540607812536,0.364645364339389\n",
      "\n",
      "3.57356927860286,6.66173291737985\n",
      "\n",
      "4.20049845570664,5.55015517660355\n",
      "\n",
      "4.444725594272,3.59023692827054\n",
      "\n",
      "1.64462558258363,2.80189041227829\n",
      "\n",
      "3.65848715618134,4.1174116516079\n",
      "\n",
      "6.1182536635867,3.43274343185957\n",
      "\n",
      "6.32263636998854,6.32177795614638\n",
      "\n",
      "6.88705623056672,4.49174615043275\n",
      "\n",
      "1.01431440971911,1.85225373130546\n",
      "\n",
      "2.85786321095721,2.14374625249928\n",
      "\n",
      "6.13328445009126,5.42835272828077\n",
      "\n",
      "4.86497696860257,4.56734476476318\n",
      "\n",
      "1.64772915749691,0.959955582222458\n",
      "\n",
      "4.65431514327572,5.43111200031915\n",
      "\n",
      "5.09807798305352,4.0597531625232\n",
      "\n",
      "4.56041939631212,5.52444261103199\n",
      "\n",
      "5.28404323139921,3.91394413634305\n",
      "\n",
      "4.96026345587458,5.29133502246838\n",
      "\n",
      "2.62741195916248,2.03569582422483\n",
      "\n",
      "5.80007094786244,5.18272123225677\n",
      "\n",
      "0.430526776779112,2.65989869813405\n",
      "\n",
      "0.674416577528401,1.37150516306284\n",
      "\n",
      "1.41387118144287,0.810115635544331\n",
      "\n",
      "2.82071884391936,2.08915176706537\n",
      "\n",
      "2.78250474447607,4.7669697303913\n",
      "\n",
      "6.4120681349922,4.56444097399334\n",
      "\n",
      "3.91060049820478,3.16520670132162\n",
      "\n",
      "4.28819090091745,4.73755096519043\n",
      "\n",
      "4.61078626252437,6.12852984361267\n",
      "\n",
      "0.944467600630866,0.273924238414826\n",
      "\n",
      "1.2794382130534,1.82169010522121\n",
      "\n",
      "1.9885831945761,2.89532926570268\n",
      "\n",
      "0.22033169143263,0.870073756961735\n",
      "\n",
      "0.599461942453759,2.62814007871897\n",
      "\n",
      "2.75475328463919,3.31130310753773\n",
      "\n",
      "1.88446705400024,3.14494521346339\n",
      "\n",
      "6.64894516689345,3.80954651955931\n",
      "\n",
      "2.38247204736799,3.2167519347045\n",
      "\n",
      "1.89102734809078,2.1239321486146\n",
      "\n",
      "2.55681636812574,0.368779544561699\n",
      "\n",
      "1.77202606033906,2.42691815104488\n",
      "\n",
      "4.80599569965951,4.03101495365266\n",
      "\n",
      "3.96806147123055,2.37394109676538\n",
      "\n",
      "3.25758410551611,0.839926832159615\n",
      "\n",
      "5.89439145694257,5.2493818730481\n",
      "\n",
      "4.68769927015674,4.27688094827886\n",
      "\n",
      "4.25919827780718,6.59608101763317\n",
      "\n",
      "5.38737892512386,4.66231647809701\n",
      "\n",
      "1.53918236324904,1.23104053968631\n",
      "\n",
      "5.53385225511032,5.69097987278769\n",
      "\n",
      "5.50041868687943,6.85800426821145\n",
      "\n",
      "5.87939194139632,5.97587430846206\n",
      "\n",
      "4.256493739433,4.98163816587406\n",
      "\n",
      "4.48961754966177,1.83902173255272\n",
      "\n",
      "1.13964747157315,2.84623979240739\n",
      "\n",
      "2.5853894900194,1.98259822928664\n",
      "\n",
      "4.44478453435394,5.05535628062824\n",
      "\n",
      "4.56314079746694,5.61803335965541\n",
      "\n",
      "2.08485012007245,2.09869530912512\n",
      "\n",
      "5.49154274878174,4.50857657970282\n",
      "\n",
      "4.7237941292629,3.7545952960052\n",
      "\n",
      "5.00611318334257,5.14484693499616\n",
      "\n",
      "3.23638156346795,4.23329861305994\n",
      "\n",
      "0.219935838925272,1.28244601981896\n",
      "\n",
      "-0.164690355737851,2.5362971448263\n",
      "\n",
      "2.1185214160229,3.78906299559624\n",
      "\n",
      "1.17512295581297,2.13177227853519\n",
      "\n",
      "0.3647177433654,1.06794911281916\n",
      "\n",
      "4.56060819317401,3.56472394566041\n",
      "\n",
      "4.48294564321223,6.00400922084693\n",
      "\n",
      "4.02132428841668,5.81362199477661\n",
      "\n",
      "1.92039542898627,1.29468609050587\n",
      "\n",
      "5.61068978373891,6.3033610604287\n",
      "\n",
      "4.69956922335081,5.06172716313629\n",
      "\n",
      "1.9055808746512,3.41523195375526\n",
      "\n",
      "2.8747282746347,0.487512514663964\n",
      "\n",
      "2.71129439690821,3.33692242868676\n",
      "\n",
      "0.615420293101415,1.02648525935425\n",
      "\n",
      "4.57487275267601,4.83791565266481\n",
      "\n",
      "5.16129326247533,3.85341404743725\n",
      "\n",
      "3.93473876003606,2.63786013261768\n",
      "\n",
      "7.0201944719947,4.35580653633275\n",
      "\n",
      "2.49560973132287,1.39127898400465\n",
      "\n",
      "3.0125082407487,4.47100255458727\n",
      "\n",
      "5.96034307264892,3.51374779091382\n",
      "\n",
      "4.22989780578655,7.03476532017229\n",
      "\n",
      "3.8575720511939,5.40625580137967\n",
      "\n",
      "1.30506690617587,0.408374001156763\n",
      "\n",
      "1.5441459516116,3.10372086177735\n",
      "\n",
      "5.41082712465061,5.66730404966021\n",
      "\n",
      "0.948148660236926,3.25267906963135\n",
      "\n",
      "2.14600411289324,3.71894852511421\n",
      "\n",
      "3.10543759553391,1.99662487548709\n",
      "\n",
      "3.03957380950541,0.16156238102081\n",
      "\n",
      "5.09280940543346,4.11805603996491\n",
      "\n",
      "6.09664498193123,4.43548053908927\n",
      "\n",
      "4.58731748568305,4.33584057458691\n",
      "\n",
      "7.10857614740047,3.91200559533627\n",
      "\n",
      "1.85645396680225,-0.346437357446978\n",
      "\n",
      "3.36459154116093,1.71669717837464\n",
      "\n",
      "0.78781174769958,2.90321402964727\n",
      "\n",
      "2.50756691207087,1.51068870645253\n",
      "\n",
      "4.50507383529591,5.65563521316996\n",
      "\n",
      "3.30676577834294,3.73801245305927\n",
      "\n",
      "6.01177715216057,4.50309326933659\n",
      "\n",
      "3.23120468696179,2.12817018150211\n",
      "\n",
      "2.3535075784521,1.16318409246625\n",
      "\n",
      "2.08072261701033,3.50534600760082\n",
      "\n",
      "4.57716066290274,5.67866275761437\n",
      "\n",
      "1.6279153451939,3.78115912565281\n",
      "\n",
      "1.64873405851004,2.33026088353668\n",
      "\n",
      "0.503836887415868,3.32190027540609\n",
      "\n",
      "4.61240607446392,4.90870861560433\n",
      "\n",
      "5.7608260854529,2.4949503319629\n",
      "\n",
      "2.54162686294309,1.3685313853642\n",
      "\n",
      "3.79393545033192,4.5826989135981\n",
      "\n",
      "3.94351353939851,4.59472701884407\n",
      "\n",
      "1.32973377852555,1.43032450085209\n",
      "\n",
      "0.669912942226147,0.778552735804531\n",
      "\n",
      "5.61384205726002,4.85753487569155\n",
      "\n",
      "6.42394242528001,4.73045179800984\n",
      "\n",
      "4.97326919596637,7.52483452555743\n",
      "\n",
      "4.81326477312807,6.14826559896142\n",
      "\n",
      "2.41813784035822,0.727751915606271\n",
      "\n",
      "5.63420951132127,4.62150059865045\n",
      "\n",
      "5.58311652844204,6.59774906816899\n",
      "\n",
      "0.60124575229027,1.82496945540603\n",
      "\n",
      "1.66077714161239,0.630111943032803\n",
      "\n",
      "2.73152663721141,2.44742204804409\n",
      "\n",
      "5.01755595610882,6.82830107957945\n",
      "\n",
      "5.13340081294714,5.81944938528602\n",
      "\n",
      "4.3731909094306,1.55783331051628\n",
      "\n",
      "4.82151823933547,5.06122536248237\n",
      "\n",
      "2.23777526065055,-0.504462563385059\n",
      "\n",
      "3.01692907973066,6.81797782389617\n",
      "\n",
      "1.89589113793936,1.920321720629\n",
      "\n",
      "2.67842906382422,0.510953623204467\n",
      "\n",
      "4.90181563433516,5.89972685909683\n",
      "\n",
      "4.67296190883765,5.42007352216571\n",
      "\n",
      "5.08910211151184,4.93260026003565\n",
      "\n",
      "5.99160549262557,5.01257569716952\n",
      "\n",
      "4.31204942264269,5.32202056648736\n",
      "\n",
      "1.48120797923405,2.70541455540941\n",
      "\n",
      "2.43243423528798,2.73813613005885\n",
      "\n",
      "3.54996636976919,0.82214853573212\n",
      "\n",
      "1.60772468592784,1.58176787412022\n",
      "\n",
      "5.40282209763392,5.36249464377762\n",
      "\n",
      "3.13085599405107,4.42904950955328\n",
      "\n",
      "3.87079417185166,5.6477404863224\n",
      "\n",
      "3.15073062671987,6.52474499604977\n",
      "\n",
      "5.38472586411446,4.5207804283562\n",
      "\n",
      "5.78610600140148,6.64211484873494\n",
      "\n",
      "1.23979798976264,2.07112606050142\n",
      "\n",
      "3.46238217801858,3.13534329155466\n",
      "\n",
      "5.65576580475661,5.78729598993612\n",
      "\n",
      "3.77625651503763,5.1099044112801\n",
      "\n",
      "3.43347388421739,4.4583577543791\n",
      "\n",
      "3.40091880233648,2.37109980500888\n",
      "\n",
      "3.6774895442761,4.12783288380735\n",
      "\n",
      "3.94994872714339,4.21794931715479\n",
      "\n",
      "4.77323261698993,3.22873711161183\n",
      "\n",
      "5.77084664562524,7.43106761187323\n",
      "\n",
      "1.23237304743182,2.34692677851063\n",
      "\n",
      "2.47768952850876,1.71492017030613\n",
      "\n",
      "5.28957956831084,5.27709015467155\n",
      "\n",
      "2.52571128182641,1.11915986046932\n",
      "\n",
      "5.28898205864922,5.26836649811852\n",
      "\n",
      "2.00423246567366,3.14198613313807\n",
      "\n",
      "0.726244176852811,4.43966222258832\n",
      "\n",
      "6.3520293266715,5.10038774796413\n",
      "\n",
      "4.3100576752726,4.45350830649883\n",
      "\n",
      "1.42013493381626,1.97167887430534\n",
      "\n",
      "4.33674396663167,0.744511649217343\n",
      "\n",
      "4.76771900917374,6.69442099705674\n",
      "\n",
      "4.73540064796221,4.87596996277347\n",
      "\n",
      "1.99426674633995,1.21919020863072\n",
      "\n",
      "6.89539415866584,5.82839037599397\n",
      "\n",
      "3.76357248546965,1.35061001585505\n",
      "\n",
      "1.60087916754549,1.43209513351576\n",
      "\n",
      "4.30183174319813,3.06633365721631\n",
      "\n",
      "0.54296752961811,2.06573001210298\n",
      "\n",
      "1.87262258809938,1.02232246612299\n",
      "\n",
      "0.263386643996748,1.48839260666999\n",
      "\n",
      "6.6192817139063,4.57317822067648\n",
      "\n",
      "0.28207003643093,2.46555610372583\n",
      "\n",
      "3.58201277261305,5.85375056544869\n",
      "\n",
      "4.46393194439442,4.41383791316411\n",
      "\n",
      "6.46678338132083,6.38623832590029\n",
      "\n",
      "6.76944714588213,6.02862930293145\n",
      "\n",
      "1.93898393913487,1.27945078008046\n",
      "\n",
      "6.43013482472293,4.32535987872413\n",
      "\n",
      "5.61827754938395,6.10544794473812\n",
      "\n",
      "1.48490645915476,2.0728459498736\n",
      "\n",
      "4.35055303518653,4.48705278937055\n",
      "\n",
      "4.78558212656321,5.45434460036039\n",
      "\n",
      "2.16980566968632,1.43047038029206\n",
      "\n",
      "2.11528956153041,2.10723773899043\n",
      "\n",
      "6.00923556021895,6.38132883063896\n",
      "\n",
      "3.50847606993947,3.89569172084188\n",
      "\n",
      "3.40455577097104,3.33287042529568\n",
      "\n",
      "6.78527268225041,5.52331209063219\n",
      "\n",
      "3.60480608097925,3.41275410718285\n",
      "\n",
      "3.88078042660014,6.62969969283294\n",
      "\n",
      "0.885349096888114,2.72394701692657\n",
      "\n",
      "6.19003175030188,5.33392155421799\n",
      "\n",
      "4.41600948017462,6.02211927210229\n",
      "\n",
      "5.34229416266533,3.40102169233383\n",
      "\n",
      "2.11279894390407,1.59544138647059\n",
      "\n",
      "2.81955838164146,2.86992461151644\n",
      "\n",
      "4.91542674024421,5.75430735078314\n",
      "\n",
      "1.27659182865656,1.73816795553235\n",
      "\n",
      "5.30348386924219,6.39658288278908\n",
      "\n",
      "1.88411014497912,2.00890495723918\n",
      "\n",
      "2.66647269876352,3.51273014224483\n",
      "\n",
      "2.1456607820535,0.982238531188426\n",
      "\n",
      "3.12583223109972,2.53439406031912\n",
      "\n",
      "5.61593223567922,5.3668813216836\n",
      "\n",
      "0.948417288579166,1.45942543523897\n",
      "\n",
      "3.13755913191587,1.94998912630265\n",
      "\n",
      "4.93108808445721,4.59655562113067\n",
      "\n",
      "3.28686229885517,0.539864935821679\n",
      "\n",
      "3.74626976476656,4.11173502349949\n",
      "\n",
      "4.88675883609098,5.57777810538513\n",
      "\n",
      "4.42266941471901,4.74554757852052\n",
      "\n",
      "6.89574816097927,5.3273226425232\n",
      "\n",
      "2.07631267449511,0.674032756904708\n",
      "\n",
      "2.82010179218845,0.64306634315924\n",
      "\n",
      "1.09311274610702,2.09947435192371\n",
      "\n",
      "4.64592450273109,4.59304937607573\n",
      "\n",
      "3.05604275592435,3.76204729130517\n",
      "\n",
      "5.02760588353348,5.27331966862275\n",
      "\n",
      "0.301969853583732,0.866342902091902\n",
      "\n",
      "2.44857824979397,1.97584865782607\n",
      "\n",
      "1.77913492220586,1.1747510233306\n",
      "\n",
      "4.51214195932446,5.62300354073938\n",
      "\n",
      "3.63333322338226,7.06281213060467\n",
      "\n",
      "2.60192250699242,1.50215198870231\n",
      "\n",
      "2.80331371385332,5.3467428051396\n",
      "\n",
      "1.81485718274725,0.172514091911149\n",
      "\n",
      "2.4450425441946,2.33838672553778\n",
      "\n",
      "2.65409925284474,0.0189757859308197\n",
      "\n",
      "5.3928672451661,6.16191412028973\n",
      "\n",
      "1.7404675417139,2.15743237258672\n",
      "\n",
      "0.44031036760206,0.541525609081598\n",
      "\n",
      "3.9138170327282,5.59256803955782\n",
      "\n",
      "-0.439043238341111,2.25228259641562\n",
      "\n",
      "6.50127071771311,5.05763261001034\n",
      "\n",
      "0.613680718971318,1.9159064754303\n",
      "\n",
      "4.9731711693891,4.69661247578314\n",
      "\n",
      "-0.0777756132762519,3.44394941856727\n",
      "\n",
      "2.46464707212416,1.81438942118562\n",
      "\n",
      "2.51460131623356,3.01021605368974\n",
      "\n",
      "6.64824719094136,6.60466588523433\n",
      "\n",
      "2.39099613284122,2.19091919597095\n",
      "\n",
      "3.78416789435373,1.51997480827161\n",
      "\n",
      "4.40815468248665,4.54068921759746\n",
      "\n",
      "4.33381113326256,4.73230266391212\n",
      "\n",
      "2.08308395528879,2.19674152480196\n",
      "\n",
      "0.847601519511178,2.59000082966615\n",
      "\n",
      "1.80491565284274,2.42093164672516\n",
      "\n",
      "4.78552249047314,5.31504794998453\n",
      "\n",
      "5.64237845844886,6.30950996340548\n",
      "\n",
      "6.567827562768,5.24610407981074\n",
      "\n",
      "4.50983260240139,3.91118013677477\n",
      "\n",
      "5.62187427308562,5.31153543320834\n",
      "\n",
      "5.79520818479879,4.68990355836612\n",
      "\n",
      "0.966912927037797,1.7157838936799\n",
      "\n",
      "5.86571088536781,4.61370028554855\n",
      "\n",
      "3.57615592368072,3.33095518316946\n",
      "\n",
      "5.35331089340278,5.39089340254074\n",
      "\n",
      "4.0921264713377,6.04350112576722\n",
      "\n",
      "7.07992038877672,5.66046688320469\n",
      "\n",
      "2.19906388345593,-0.11554039648683\n",
      "\n",
      "4.25532836062008,5.27504403972471\n",
      "\n",
      "2.01861288677833,1.48724701655473\n",
      "\n",
      "5.18818381018441,6.23064290302632\n",
      "\n",
      "2.73831446059373,3.31347898160404\n",
      "\n",
      "1.20007743350655,0.167140348261632\n",
      "\n",
      "0.0462968560464219,1.53908174155653\n",
      "\n",
      "1.94480090357738,2.45383818031094\n",
      "\n",
      "6.20501822365087,2.92878119560478\n",
      "\n",
      "1.06092696417562,3.93445918880074\n",
      "\n",
      "1.29201391377081,2.49374557156132\n",
      "\n",
      "0.0401198320289198,4.28428186284859\n",
      "\n",
      "-0.317878956419948,2.17149214455563\n",
      "\n",
      "4.6631893807803,6.01013305260391\n",
      "\n",
      "3.50231148848027,5.90899625171944\n",
      "\n",
      "4.47599344873794,5.77869014051667\n",
      "\n",
      "2.27160331794456,1.26526864220208\n",
      "\n",
      "1.08150377593284,1.80536731328408\n",
      "\n",
      "2.25611877493827,3.99540818958222\n",
      "\n",
      "4.23515786626669,2.09666591481702\n",
      "\n",
      "2.59107461141997,4.83059344566613\n",
      "\n",
      "1.81924409230972,2.19380564497589\n",
      "\n",
      "3.67356548395856,1.32786444800368\n",
      "\n",
      "3.53689832067066,2.63112707663383\n",
      "\n",
      "3.37099687315896,4.8585218602958\n",
      "\n",
      "4.54033547502901,4.46971348690386\n",
      "\n",
      "3.10579260150095,2.38651985843289\n",
      "\n",
      "3.25666057727134,6.02165393191534\n",
      "\n",
      "5.55494004701664,5.69279164248393\n",
      "\n",
      "1.77502306655775,2.42025533708809\n",
      "\n",
      "1.82943100953759,0.891812859082087\n",
      "\n",
      "2.46673660006922,0.423691864012767\n",
      "\n",
      "0.806864607770682,1.42947336873896\n",
      "\n",
      "8.82759603111153,6.12105507177466\n",
      "\n",
      "1.94986645022691,2.74828471136209\n",
      "\n",
      "1.53957949649799,4.47478124107076\n",
      "\n",
      "2.11152363375054,4.03957265915972\n",
      "\n",
      "5.52524301362923,4.89109937209979\n",
      "\n",
      "6.2140123118826,6.11031059166439\n",
      "\n",
      "0.326457402722121,0.297645637470376\n",
      "\n",
      "5.18738233818557,5.55270323904755\n",
      "\n",
      "4.14203235998591,5.83224843944533\n",
      "\n",
      "3.49717959546831,4.37217851997766\n",
      "\n",
      "3.54205385256366,4.97710915535377\n",
      "\n",
      "4.5965458879313,4.18551117408867\n",
      "\n",
      "4.80352339456871,4.99799400026023\n",
      "\n",
      "3.11657216558083,2.17585815579622\n",
      "\n",
      "2.44449595663036,2.1110117772203\n",
      "\n",
      "1.63510138338116,2.4013396882255\n",
      "\n",
      "4.21923047346962,5.66678754773491\n",
      "\n",
      "4.21660826692545,5.74484989696199\n",
      "\n",
      "1.98893691114147,1.39979330121748\n",
      "\n",
      "-0.170846971639067,2.73102944834373\n",
      "\n",
      "5.3394352671559,4.84428997749201\n",
      "\n",
      "3.15007083963487,1.45530834981102\n",
      "\n",
      "4.98755375507101,3.29823848908999\n",
      "\n",
      "4.34387160424888,5.7064790827419\n",
      "\n",
      "1.60489185211547,1.60745828358911\n",
      "\n",
      "5.8112339801281,4.08536152534689\n",
      "\n",
      "2.41394293807718,2.3624887158372\n",
      "\n",
      "2.01499350775205,1.20208204673018\n",
      "\n",
      "1.4203842723694,0.00689611629582676\n",
      "\n",
      "6.46124058156988,4.49035218827978\n",
      "\n",
      "3.22424626214688,4.20232985701334\n",
      "\n",
      "1.61676927749938,4.08781749280073\n",
      "\n",
      "1.35259714972234,3.74390207808821\n",
      "\n",
      "1.44104125005736,0.954613371999637\n",
      "\n",
      "3.9681255011843,4.2203981696503\n",
      "\n",
      "0.327735768632112,1.15927609615896\n",
      "\n",
      "4.69626344835472,2.96955259542864\n",
      "\n",
      "2.16733839040841,1.67078615402409\n",
      "\n",
      "2.81824327199203,1.07999010305882\n",
      "\n",
      "4.93927505166536,4.96090323134489\n",
      "\n",
      "5.86951438128335,5.36614579333389\n",
      "\n",
      "0.924227442340991,2.49093190408137\n",
      "\n",
      "3.21760122104404,1.17882845398356\n",
      "\n",
      "3.150161192997,0.419674514391208\n",
      "\n",
      "4.3096777237094,1.48033348923898\n",
      "\n",
      "1.62855519828635,0.394081626837944\n",
      "\n",
      "2.29380005576158,3.13216375831095\n",
      "\n",
      "2.8051140725411,2.16669589135406\n",
      "\n",
      "4.58564256557639,2.96076105861211\n",
      "\n",
      "2.31925195430057,1.3798555600938\n",
      "\n",
      "4.10491070246736,2.86075291227556\n",
      "\n",
      "4.97260836868582,4.79424256928495\n",
      "\n",
      "1.3085290793716,2.66334923920732\n",
      "\n",
      "1.96672888929878,2.32092725867613\n",
      "\n",
      "5.63922018316921,4.96013070377566\n",
      "\n",
      "5.31928762046333,3.68676876686344\n",
      "\n",
      "5.08807779791037,5.50105913598312\n",
      "\n",
      "1.93098521336429,3.14012869165379\n",
      "\n",
      "0.899845255159125,2.9454507982901\n",
      "\n",
      "5.4006299149724,5.72899960093917\n",
      "\n",
      "1.24970421582635,1.79231007521268\n",
      "\n",
      "3.14703019296072,3.88302766837288\n",
      "\n",
      "0.730194890209807,1.44081372545753\n",
      "\n",
      "4.51593900632133,5.67414060079761\n",
      "\n",
      "2.70821348964725,2.0789425546926\n",
      "\n",
      "1.47268319850251,2.25844143698241\n",
      "\n",
      "1.23203445320898,2.32183642564842\n",
      "\n",
      "5.77304432039171,4.51638469993774\n",
      "\n",
      "5.93377513867087,5.71899111032827\n",
      "\n",
      "4.42908550080434,5.82852588443138\n",
      "\n",
      "5.77466740679163,3.94914261031392\n",
      "\n",
      "0.292278066963992,2.72432503979907\n",
      "\n",
      "4.00032599469434,3.81544609325039\n",
      "\n",
      "3.58709190054927,3.91979600939104\n",
      "\n",
      "1.86138461209645,1.25359972731097\n",
      "\n",
      "5.51793021845983,4.8732653278723\n",
      "\n",
      "6.24954195247724,5.35439518542627\n",
      "\n",
      "5.11093305194093,4.28236767388019\n",
      "\n",
      "4.33728888617677,5.14876859492787\n",
      "\n",
      "1.99938762887928,2.12668842217229\n",
      "\n",
      "6.77762538546338,5.20783865558701\n",
      "\n",
      "3.13728910010936,1.01642893900686\n",
      "\n",
      "4.64635225977869,4.63282978853344\n",
      "\n",
      "4.78207185846131,5.04080682484909\n",
      "\n",
      "0.20436362833907,2.62025218617119\n",
      "\n",
      "3.26919910547492,0.847982815275226\n",
      "\n",
      "2.12018298070321,2.95667865630073\n",
      "\n",
      "1.67505153186125,1.87726468852903\n",
      "\n",
      "4.74982783182228,3.78056873087181\n",
      "\n",
      "1.20828581422197,1.64411974897112\n",
      "\n",
      "5.58125222065165,5.19007166429619\n",
      "\n",
      "2.06669879638375,3.34964977392793\n",
      "\n",
      "3.49092415650093,6.04884622739305\n",
      "\n",
      "3.86675439999337,5.00410868555899\n",
      "\n",
      "2.24214670344411,3.33427237908178\n",
      "\n",
      "6.67773335009283,5.42575216297253\n",
      "\n",
      "3.64639501963335,0.976505854617512\n",
      "\n",
      "1.36993930531142,1.54087149360115\n",
      "\n",
      "1.74332195428459,1.36071785422228\n",
      "\n",
      "4.86121260307282,4.93264869684056\n",
      "\n",
      "3.51797172150155,4.10325024060449\n",
      "\n",
      "0.107185945722492,1.43172910236495\n",
      "\n",
      "1.52049859497519,2.78223984431609\n",
      "\n",
      "4.81805162076728,5.83693834885551\n",
      "\n",
      "5.65419237824411,6.78598752672553\n",
      "\n",
      "4.54580808111198,5.21505384265772\n",
      "\n",
      "5.47605939570264,5.07414987518802\n",
      "\n",
      "4.75890312357773,6.16933733917636\n",
      "\n",
      "6.18481517194568,2.56229299256298\n",
      "\n",
      "5.22375993072974,5.07595004027181\n",
      "\n",
      "3.42706733807244,2.45557175860817\n",
      "\n",
      "1.57477020882687,2.26293927978715\n",
      "\n",
      "0.908178189798721,1.27233500765071\n",
      "\n",
      "1.90746206714013,3.0898185417214\n",
      "\n",
      "4.3944270132203,4.93697681509298\n",
      "\n",
      "0.0977416322090974,3.0482800555767\n",
      "\n",
      "6.08756664682435,3.10719218944916\n",
      "\n",
      "5.16375204987431,4.94343833628481\n",
      "\n",
      "2.7045545652499,1.86402959248272\n",
      "\n",
      "4.0346988981246,5.1249205134252\n",
      "\n",
      "2.96961737141706,1.82706290668636\n",
      "\n",
      "7.19241017237874,6.01891242608891\n",
      "\n",
      "1.92278405194694,3.56808070944872\n",
      "\n",
      "1.5168098049654,0.253384711793534\n",
      "\n",
      "4.66899684716791,4.58403483875564\n",
      "\n",
      "6.02968386719825,4.5836644898114\n",
      "\n",
      "4.48057037522263,4.40927647776857\n",
      "\n",
      "4.69981398776735,4.62602683535512\n",
      "\n",
      "5.58132123879121,4.89496259261497\n",
      "\n",
      "4.89192701629899,5.79624944603155\n",
      "\n",
      "2.22344496536012,2.84853585539275\n",
      "\n",
      "1.38704304624089,1.41166324164283\n",
      "\n",
      "6.21785898522982,6.30560347329129\n",
      "\n",
      "0.920348973330144,0.771171670616268\n",
      "\n",
      "1.54549118279689,1.57936064944196\n",
      "\n",
      "4.97869602945317,5.29623995232617\n",
      "\n",
      "3.66969404671606,5.85910814352014\n",
      "\n",
      "1.71725048017038,0.288256778803406\n",
      "\n",
      "6.72590754887564,6.04078343126063\n",
      "\n",
      "5.49211089966788,6.41423343425194\n",
      "\n",
      "4.7572497315404,4.69866096125131\n",
      "\n",
      "5.08548186399041,4.53370448376822\n",
      "\n",
      "2.03195008285256,2.42591183756999\n",
      "\n",
      "5.8128481059031,4.11448475952222\n",
      "\n",
      "2.77722626838662,3.47551439736663\n",
      "\n",
      "3.28552881485397,5.0059679475863\n",
      "\n",
      "3.58349213986453,4.98742143771707\n",
      "\n",
      "4.97607961994393,5.07374974392047\n",
      "\n",
      "4.05873241769465,5.22629111342373\n",
      "\n",
      "2.74073186189183,1.9691142795153\n",
      "\n",
      "1.21033977568805,2.53521276498302\n",
      "\n",
      "4.44332098134848,5.81568833701327\n",
      "\n",
      "5.01308300785651,5.42767195237217\n",
      "\n",
      "4.81246685448314,4.14601951589045\n",
      "\n",
      "6.97031152251764,5.01503564588308\n",
      "\n",
      "0.94068291034448,1.79607298950283\n",
      "\n",
      "1.48131614440207,3.15064558900139\n",
      "\n",
      "5.36990409013535,5.82913628229273\n",
      "\n",
      "0.285831133092133,3.05780386737506\n",
      "\n",
      "4.04254695704743,6.39105583864082\n",
      "\n",
      "5.07990287952797,4.60673279302117\n",
      "\n",
      "2.21553350856766,1.65192213419431\n",
      "\n",
      "3.12696203010661,1.68318363941764\n",
      "\n",
      "4.95432663074204,4.47564469347302\n",
      "\n",
      "4.99567925832663,6.06441088608835\n",
      "\n",
      "4.05058154685273,4.50978480478613\n",
      "\n",
      "6.34542377937293,5.53771995496291\n",
      "\n",
      "3.66235428959974,5.42718803174982\n",
      "\n",
      "2.54180670172395,2.53789236326906\n",
      "\n",
      "2.679582343503,2.07852292291065\n",
      "\n",
      "1.83858956683442,4.06795266765063\n",
      "\n",
      "1.61572023453831,1.96589110010776\n",
      "\n",
      "2.52030097723542,3.35492329691644\n",
      "\n",
      "5.3396638027379,5.99078903336069\n",
      "\n",
      "3.41176863275248,2.01683998268935\n",
      "\n",
      "3.00342541376598,2.4238473659119\n",
      "\n",
      "2.04247756374421,1.86953702096427\n",
      "\n",
      "4.60235578718236,5.70211320666729\n",
      "\n",
      "3.40846179882451,3.98044596113731\n",
      "\n",
      "4.19394116786057,4.806385800796\n",
      "\n",
      "0.237116961794479,2.97957623446073\n",
      "\n",
      "2.09853689504966,2.38606647512155\n",
      "\n",
      "4.78826239922861,5.62609299906786\n",
      "\n",
      "5.76870005724782,4.62508917005461\n",
      "\n",
      "5.2583481287901,4.14488607016685\n",
      "\n",
      "1.33336219369542,3.08617637154976\n",
      "\n",
      "2.06134293645698,1.37821387549813\n",
      "\n",
      "4.63526813274516,5.24282078444207\n",
      "\n",
      "4.49102791591989,6.10628233656249\n",
      "\n",
      "2.50065658472976,2.38997845680505\n",
      "\n",
      "5.19840688924346,4.93738162598445\n",
      "\n",
      "3.01516437879848,1.78399487086189\n",
      "\n",
      "3.96882940799608,5.10859163899066\n",
      "\n",
      "5.26499980962239,5.26697963687162\n",
      "\n",
      "4.09910639715869,5.26285904692061\n",
      "\n",
      "1.70697995393552,1.42192408914962\n",
      "\n",
      "4.46297773288268,5.5726730686493\n",
      "\n",
      "5.99788710497647,5.54291697030545\n",
      "\n",
      "3.63268970298932,1.40638551736193\n",
      "\n",
      "2.29684012234794,1.84710195303136\n",
      "\n",
      "-0.178390870590162,3.04510885680454\n",
      "\n",
      "3.1888885875678,6.44032695603795\n",
      "\n",
      "5.3582905517107,6.37151524171362\n",
      "\n",
      "0.829557736941167,2.51033992517284\n",
      "\n",
      "1.51621279695723,2.49645004924247\n",
      "\n",
      "4.54694459955412,6.07885555446445\n",
      "\n",
      "1.50854142470491,1.76259113889613\n",
      "\n",
      "2.12068824931006,1.15929807044872\n",
      "\n",
      "3.82039775009662,3.30961653989602\n",
      "\n",
      "5.34368689717057,3.38528974156588\n",
      "\n",
      "4.62938700714999,1.10954584432942\n",
      "\n",
      "2.65598234516103,3.12361409222737\n",
      "\n",
      "2.3767091899385,1.98372608979876\n",
      "\n",
      "1.8380784985254,2.28585268116339\n",
      "\n",
      "0.751912359585003,0.97642734779199\n",
      "\n",
      "2.61756355023684,2.24929403141883\n",
      "\n",
      "3.91204981366802,2.15866898558261\n",
      "\n",
      "2.81096403359894,2.48833432925267\n",
      "\n",
      "2.81184163180402,1.87552427344826\n",
      "\n",
      "5.97456277445799,6.15072834347575\n",
      "\n",
      "4.34781980739503,5.39458119094658\n",
      "\n",
      "5.66869486790056,5.42516240110272\n",
      "\n",
      "4.34782649378068,5.08790907482594\n",
      "\n",
      "4.38448735771497,6.76842618756576\n",
      "\n",
      "4.94791783860948,3.59088258214606\n",
      "\n",
      "1.82607017580588,2.77563493639949\n",
      "\n",
      "2.51067014510241,3.32801006570083\n",
      "\n",
      "2.25558495975409,2.94252811210449\n",
      "\n",
      "2.46849272302577,1.5844187873842\n",
      "\n",
      "2.68391872865989,0.549142951542321\n",
      "\n",
      "5.97003084213185,4.74331930323821\n",
      "\n",
      "2.53860587253163,3.17994156775105\n",
      "\n",
      "2.47083622012227,1.74939065554883\n",
      "\n",
      "2.34146978839386,1.41308392549384\n",
      "\n",
      "6.24473166501246,4.68478010120991\n",
      "\n",
      "2.09495474479875,1.56712725668966\n",
      "\n",
      "2.53545251209503,2.05688266940668\n",
      "\n",
      "4.67595208610902,4.52053112889026\n",
      "\n",
      "1.28193901624093,3.42610936337514\n",
      "\n",
      "1.98574162830378,1.85322932943352\n",
      "\n",
      "2.36985439463277,6.97587499951551\n",
      "\n",
      "3.56684054348347,5.68287480551158\n",
      "\n",
      "5.27767422791283,5.95583727135627\n",
      "\n",
      "4.61291010253535,6.06941907564567\n",
      "\n",
      "6.02518387157695,2.54772219729504\n",
      "\n",
      "1.24851853616809,2.21584432345316\n",
      "\n",
      "5.91763735059402,6.89546151476663\n",
      "\n",
      "4.75390908177982,4.59048094768715\n",
      "\n",
      "3.9233617418743,5.87029539373272\n",
      "\n",
      "4.40392510649826,5.13578278973891\n",
      "\n",
      "2.83238829948785,3.63507855468015\n",
      "\n",
      "2.19984636081632,1.77833242869854\n",
      "\n",
      "2.62430216204888,2.5297465546456\n",
      "\n",
      "5.39826701702989,3.96685696336523\n",
      "\n",
      "4.51369882958149,3.95631936924621\n",
      "\n",
      "7.0900374636799,5.1235574281402\n",
      "\n",
      "5.1970032640117,4.48510568462932\n",
      "\n",
      "3.15770087796068,2.82656451951539\n",
      "\n",
      "0.810878479957407,2.77172497581711\n",
      "\n",
      "0.541041154397267,4.53370263197845\n",
      "\n",
      "5.10964962304688,7.96766547322943\n",
      "\n",
      "6.04017422886361,5.45617179796305\n",
      "\n",
      "4.11979387972703,3.44812193844629\n",
      "\n",
      "3.46747200757059,2.8990901010006\n",
      "\n",
      "3.93394669189763,5.12326633783653\n",
      "\n",
      "2.75472217714602,3.57133748077372\n",
      "\n",
      "5.37684048731913,4.45482973795909\n",
      "\n",
      "3.29852512697046,0.143353597698226\n",
      "\n",
      "1.72365323674911,1.7125763981332\n",
      "\n",
      "0.915896765182208,1.48556640505004\n",
      "\n",
      "3.33617535665509,3.02887134366131\n",
      "\n",
      "1.86532107737369,1.86484936479433\n",
      "\n",
      "5.62403539602192,5.41632716253601\n",
      "\n",
      "6.80052279475399,4.90634582892615\n",
      "\n",
      "0.789762119785358,2.5947472715704\n",
      "\n",
      "5.20177505889676,5.71095744344411\n",
      "\n",
      "4.80534001209615,5.07978559843481\n",
      "\n",
      "4.40432030752315,5.64768624583918\n",
      "\n",
      "0.692794426927263,2.71419601391445\n",
      "\n",
      "0.580812927539365,0.635368825758099\n",
      "\n",
      "2.51565130743535,1.67177702774902\n",
      "\n",
      "2.16312976787597,2.34589989491107\n",
      "\n",
      "2.71050991304201,2.29035152467346\n",
      "\n",
      "-0.0206241093965103,1.61566725193694\n",
      "\n",
      "3.85296460373681,3.63572326246596\n",
      "\n",
      "5.98586946284939,4.27677951315835\n",
      "\n",
      "1.09543168059369,2.26332872703251\n",
      "\n",
      "6.96660602325874,3.79643429058845\n",
      "\n",
      "5.23532749496883,4.45533007321192\n",
      "\n",
      "1.24678192044103,2.01622104915434\n",
      "\n",
      "3.44430678447222,4.5616566309103\n",
      "\n",
      "1.04815520544439,1.08924797703317\n",
      "\n",
      "2.09366786254183,2.45676244779082\n",
      "\n",
      "2.1314906504035,1.79585137353262\n",
      "\n",
      "1.59549688966537,0.16604606191409\n",
      "\n",
      "0.876754385220814,2.83394038289326\n",
      "\n",
      "3.6643348267108,1.99679490189206\n",
      "\n",
      "5.8229514407695,4.05889739179862\n",
      "\n",
      "2.1292003924559,1.79127838827991\n",
      "\n",
      "2.76334097088047,1.4810686142785\n",
      "\n",
      "3.16157332495418,1.98595000595941\n",
      "\n",
      "5.15357937160603,5.06218863478857\n",
      "\n",
      "6.41302779196595,4.86358425454142\n",
      "\n",
      "2.06144346136246,2.30388913148071\n",
      "\n",
      "3.35261089214025,5.96417365906254\n",
      "\n",
      "3.67669347641888,2.94600449822498\n",
      "\n",
      "4.27802673533581,5.63921095487633\n",
      "\n",
      "2.43251342109992,1.75022644352119\n",
      "\n",
      "5.70492983298462,6.70284043753667\n",
      "\n",
      "4.79717589080505,4.0457897749478\n",
      "\n",
      "2.2249350066714,3.22573196523735\n",
      "\n",
      "6.43853918258431,6.45810248454106\n",
      "\n",
      "1.83180546116036,2.68467308869198\n",
      "\n",
      "1.52856846014387,0.680816183008747\n",
      "\n",
      "5.98210186988578,4.68770667650858\n",
      "\n",
      "1.02208197663789,2.17976795517568\n",
      "\n",
      "4.84124859028974,6.89773493559595\n",
      "\n",
      "5.38098398125059,3.39082002994595\n",
      "\n",
      "1.29315187406912,1.57630941266091\n",
      "\n",
      "0.671860802542168,0.737303787636636\n",
      "\n",
      "1.62237489288647,-0.357829353625393\n",
      "\n",
      "4.91026712846603,4.85719378221649\n",
      "\n",
      "5.12321877675663,4.63553860391709\n",
      "\n",
      "1.71529903050244,2.20943753700056\n",
      "\n",
      "6.32601190884881,5.32756072452033\n",
      "\n",
      "2.83312054421538,2.51868562061049\n",
      "\n",
      "2.49102430008705,2.43732010235754\n",
      "\n",
      "4.62483805096495,4.38765112057288\n",
      "\n",
      "2.60210048407076,3.0870232066067\n",
      "\n",
      "7.07809303898918,4.50928251414528\n",
      "\n",
      "1.91083609222308,2.25618054292682\n",
      "\n",
      "3.73306104340769,6.17133474488772\n",
      "\n",
      "3.09097217161984,3.81003070399407\n",
      "\n",
      "0.803472104806044,1.33816134818804\n",
      "\n",
      "2.38690562665874,3.98734639762505\n",
      "\n",
      "1.9806984231529,1.29770785032125\n",
      "\n",
      "5.46210373724148,5.98393987854688\n",
      "\n",
      "1.04141457097601,1.31764613158606\n",
      "\n",
      "5.05284934981768,6.85635380485262\n",
      "\n",
      "-0.805930886937938,1.50192905958709\n",
      "\n",
      "2.11856953143214,2.06106738012802\n",
      "\n",
      "5.50682135318375,4.48362191279555\n",
      "\n",
      "-0.153842965362982,2.17095293436975\n",
      "\n",
      "1.40817061428456,2.29683390230063\n",
      "\n",
      "3.57160175303893,5.49365912599589\n",
      "\n",
      "3.0532780939689,2.69416766450538\n",
      "\n",
      "2.00535018596085,2.92547384344551\n",
      "\n",
      "1.52764762829556,3.23867310193637\n",
      "\n",
      "4.97671841257825,3.75237615200629\n",
      "\n",
      "3.88155340718889,5.29981466865471\n",
      "\n",
      "2.12059435949415,2.61651595443213\n",
      "\n",
      "6.48799691823779,3.90306286632447\n",
      "\n",
      "2.40381915500562,-0.210542214637993\n",
      "\n",
      "5.00441506179567,5.32941217141036\n",
      "\n",
      "2.06731430221756,1.86767530118745\n",
      "\n",
      "5.00211136379582,4.6314388937918\n",
      "\n",
      "6.25429135091482,4.56067287397691\n",
      "\n",
      "3.34890595984823,2.24334448451868\n",
      "\n",
      "4.99695349006768,5.04268970662978\n",
      "\n",
      "3.11759042459671,0.126194205957194\n",
      "\n",
      "2.84617879728118,1.55015381829555\n",
      "\n",
      "1.42030690515459,3.09323818945071\n",
      "\n",
      "3.12194526748244,5.25379629678862\n",
      "\n",
      "3.85111810364893,4.44686396816276\n",
      "\n",
      "2.76899298823899,1.30761258423033\n",
      "\n",
      "1.8720740682029,3.01846795409712\n",
      "\n",
      "0.552967783638553,2.03736908872639\n",
      "\n",
      "4.2036903691339,3.95967482306149\n",
      "\n",
      "1.58802490587712,1.14286615196903\n",
      "\n",
      "5.85866045907216,6.82230669439862\n",
      "\n",
      "4.72941071536484,6.34560617936878\n",
      "\n",
      "3.97486775861518,3.63871627428677\n",
      "\n",
      "2.59065963292692,1.57347259716216\n",
      "\n",
      "2.4624243045807,2.36747208176793\n",
      "\n",
      "1.29135460887587,1.32263281216682\n",
      "\n",
      "5.5324150507171,4.32900165529779\n",
      "\n",
      "4.39998493514233,4.84090894346229\n",
      "\n",
      "2.49008789345533,1.75143797365034\n",
      "\n",
      "4.8783425179107,4.34776240752216\n",
      "\n",
      "4.63144846183172,5.95894366944326\n",
      "\n",
      "1.396395246745,1.70487294432148\n",
      "\n",
      "2.98188249120365,1.40933842237683\n",
      "\n",
      "5.23575406278357,5.66548960127218\n",
      "\n",
      "4.00045702107916,4.45217267564732\n",
      "\n",
      "3.51352416797538,0.609935271921214\n",
      "\n",
      "5.10272439856328,5.1597004949491\n",
      "\n",
      "5.1559709052761,3.50944598311068\n",
      "\n",
      "4.92879139446796,5.62997903716656\n",
      "\n",
      "4.90469112203942,5.82886908124791\n",
      "\n",
      "5.48553431459678,4.31170865846975\n",
      "\n",
      "2.58783376568297,1.46689194957206\n",
      "\n",
      "4.65839707022168,3.87709693283645\n",
      "\n",
      "1.35201468480792,2.29920952362054\n",
      "\n",
      "5.21343212304773,5.73378451459092\n",
      "\n",
      "4.82191960084447,3.32984330754934\n",
      "\n",
      "4.63594168740716,4.50010790363363\n",
      "\n",
      "2.7143195233294,1.22957379500815\n",
      "\n",
      "3.26060150816994,2.23104078395197\n",
      "\n",
      "5.47097531323579,4.66179643214912\n",
      "\n",
      "3.36362817026114,3.73386263022897\n",
      "\n",
      "1.08556692601129,3.39058768318083\n",
      "\n",
      "4.53983346154791,4.88968413242462\n",
      "\n",
      "6.1477703704575,4.63433702554505\n",
      "\n",
      "5.02783626637128,5.88711631665141\n",
      "\n",
      "1.70456456012928,3.02712555517585\n",
      "\n",
      "4.63995201996568,5.15130907788217\n",
      "\n",
      "3.61372825087444,4.18033661992156\n",
      "\n",
      "0.971622408680048,1.50811174062272\n",
      "\n",
      "1.1164431810323,0.755929810375741\n",
      "\n",
      "5.17342125455611,5.63708875724732\n",
      "\n",
      "4.17852312491555,1.44743953672014\n",
      "\n",
      "4.7614298158024,4.8940462697948\n",
      "\n",
      "0.946787864619725,1.21599003844582\n",
      "\n",
      "4.02804492567801,5.25275682434887\n",
      "\n",
      "1.41446777255466,2.44164004549327\n",
      "\n",
      "1.33039987504559,2.91084534831615\n",
      "\n",
      "6.124652294885,5.32922048062658\n",
      "\n",
      "2.2223237749381,1.61818629016259\n",
      "\n",
      "2.86613724835027,1.76162691758209\n",
      "\n",
      "3.45748956009854,3.33720540108227\n",
      "\n",
      "3.6451734374448,4.10431209229411\n",
      "\n",
      "6.38969633048868,5.51922745467967\n",
      "\n",
      "5.34241571555988,4.27385948116885\n",
      "\n",
      "-0.240933000960179,2.62027483330891\n",
      "\n",
      "1.61061479416296,0.747613218336757\n",
      "\n",
      "6.20250884048753,3.03813628002105\n",
      "\n",
      "2.37210995806454,0.995839302561992\n",
      "\n",
      "5.47840026076816,4.27877752517295\n",
      "\n",
      "2.39352699873531,2.54068152899663\n",
      "\n",
      "1.05113772293287,2.20265412417297\n",
      "\n",
      "2.46773825965089,2.82982264341906\n",
      "\n",
      "4.46523500844259,4.94693799134212\n",
      "\n",
      "1.28224851850426,3.90346937872068\n",
      "\n",
      "5.05661512829176,4.49834927587017\n",
      "\n",
      "2.46468931982843,1.87269185137662\n",
      "\n",
      "1.57335336952809,2.32885788602472\n",
      "\n",
      "4.35055706183543,5.87412904368434\n",
      "\n",
      "3.67373186973189,3.77681827838372\n",
      "\n",
      "2.49777875017344,1.92057851671206\n",
      "\n",
      "0.0500998026215636,1.94760235579766\n",
      "\n",
      "4.79482174955794,4.79149388008865\n",
      "\n",
      "5.33810728861045,4.64969517886471\n",
      "\n",
      "6.41158135215659,4.9701822347813\n",
      "\n",
      "5.30319928787722,5.4588140513423\n",
      "\n",
      "5.18937273520552,2.53968763225373\n",
      "\n",
      "3.04761954897876,1.19111824953521\n",
      "\n",
      "1.27553218580889,2.54952372684992\n",
      "\n",
      "0.175402685939514,1.6354441139559\n",
      "\n",
      "2.4267971767796,0.974678213890656\n",
      "\n",
      "1.73067104194846,1.98319193200586\n",
      "\n",
      "1.82597576841076,2.45534526923985\n",
      "\n",
      "2.04216201027444,1.83830345326246\n",
      "\n",
      "2.1400508338776,3.10799617793083\n",
      "\n",
      "2.92743547616719,4.33839990220254\n",
      "\n",
      "1.41365610589636,1.49489423701829\n",
      "\n",
      "2.13925914425742,3.01944308561121\n",
      "\n",
      "0.650945020332324,1.04467754583681\n",
      "\n",
      "6.25645154681291,6.7165815397691\n",
      "\n",
      "4.21592063220714,4.55728886277001\n",
      "\n",
      "3.58997287853811,6.08534012619845\n",
      "\n",
      "1.50087093866145,3.38014118673106\n",
      "\n",
      "2.74760117006276,0.601589420484416\n",
      "\n",
      "1.60669615263018,2.25067997711491\n",
      "\n",
      "2.8428787352343,2.74658901131908\n",
      "\n",
      "2.37215753370801,3.62113094746713\n",
      "\n",
      "4.26240987364625,5.83504973165194\n",
      "\n",
      "1.90154305071892,3.14654182274606\n",
      "\n",
      "1.2583278828898,3.34601585565886\n",
      "\n",
      "2.72490031793384,3.48034086760694\n",
      "\n",
      "4.44629793065524,4.05585323943581\n",
      "\n",
      "4.46827337651143,3.77017764863318\n",
      "\n",
      "0.92689980213773,3.23880228844738\n",
      "\n",
      "5.14542546722646,6.02420013113393\n",
      "\n",
      "2.0946834626626,1.69067262591022\n",
      "\n",
      "1.25743686175896,3.26379744411334\n",
      "\n",
      "3.35855398514888,3.78123897170899\n",
      "\n",
      "5.83779385877542,4.88676815090514\n",
      "\n",
      "4.63449129091297,3.52318796207233\n",
      "\n",
      "1.62316056127676,2.8986555001162\n",
      "\n",
      "2.07561854317764,2.6687515636795\n",
      "\n",
      "4.10648231287252,5.86986904702794\n",
      "\n",
      "8.22971873448778,3.98152731014681\n",
      "\n",
      "0.923280667030901,2.84197190171727\n",
      "\n",
      "7.05125812365565,5.12745119953902\n",
      "\n",
      "2.76129948103388,1.461427867728\n",
      "\n",
      "5.62660931170819,6.51182010253948\n",
      "\n",
      "1.5880886054839,3.81426156195148\n",
      "\n",
      "6.83823431145513,4.92886107945684\n",
      "\n",
      "5.12904472926355,5.17760997587578\n",
      "\n",
      "4.43607422066507,3.36821991946697\n",
      "\n",
      "1.937873727538,4.39091706064787\n",
      "\n",
      "4.86693696015775,4.63555385591503\n",
      "\n",
      "4.16330399396493,6.61795607385183\n",
      "\n",
      "6.00774551027045,2.90721937654278\n",
      "\n",
      "0.617058353094256,2.56927711680137\n",
      "\n",
      "5.92381895054938,5.44490680936257\n",
      "\n",
      "0.704366373808972,2.85991806427931\n",
      "\n",
      "3.49909752635251,5.16560354168034\n",
      "\n",
      "5.75109644073719,4.72010446468928\n",
      "\n",
      "5.39995832653664,5.87440938793096\n",
      "\n",
      "6.06847400481199,5.35300921458621\n",
      "\n",
      "4.37221342902357,4.20758035213342\n",
      "\n",
      "3.79559139945101,0.328585630273774\n",
      "\n",
      "2.7845446828849,5.97803730082872\n",
      "\n",
      "5.1016216885344,6.14628724552329\n",
      "\n",
      "4.12440528202092,4.95311916021955\n",
      "\n",
      "1.53110258545771,1.3756254757947\n",
      "\n",
      "0.182733987112887,1.54488344303573\n",
      "\n",
      "1.16194406623148,2.53708869647978\n",
      "\n",
      "5.02496878199755,4.51678037775148\n",
      "\n",
      "2.5333919661653,5.2123939224392\n",
      "\n",
      "3.0269628563084,1.01346884667464\n",
      "\n",
      "1.54519422522699,2.31592063331653\n",
      "\n",
      "5.70213950116607,4.41056350775857\n",
      "\n",
      "2.81591757362568,1.9216296736837\n",
      "\n",
      "4.68062908257886,5.28778287343133\n",
      "\n",
      "4.06051733354066,5.20625819598642\n",
      "\n",
      "2.02665278032691,1.79476172403175\n",
      "\n",
      "5.71598982736544,1.76678643754205\n",
      "\n",
      "5.19437960346169,4.82895999283295\n",
      "\n",
      "4.81588303466914,3.67277214926313\n",
      "\n",
      "3.19244668350382,3.79346047105339\n",
      "\n",
      "1.18933519370979,2.57073590115879\n",
      "\n",
      "1.3319171382025,2.24420163326162\n",
      "\n",
      "1.46220311702505,1.76314036116183\n",
      "\n",
      "2.60243145216953,1.57617895589418\n",
      "\n",
      "4.10257648510992,6.64164617681751\n",
      "\n",
      "5.12749167736594,5.93053470353261\n",
      "\n",
      "6.62097815900215,3.01566735332335\n",
      "\n",
      "4.90551229177719,6.88994900868107\n",
      "\n",
      "1.61438268747082,0.701649641816683\n",
      "\n",
      "0.432252289519712,1.95353653785754\n",
      "\n",
      "4.54286831365272,3.80084228224581\n",
      "\n",
      "4.26391674758626,1.20515065281049\n",
      "\n",
      "3.2233551577104,3.79510116526211\n",
      "\n",
      "0.835734858791141,1.877062511509\n",
      "\n",
      "1.3964919816049,1.15735453604472\n",
      "\n",
      "5.91120165571434,5.46894201105698\n",
      "\n",
      "4.42360026598018,5.05537443623664\n",
      "\n",
      "2.4930986220426,3.23843203725918\n",
      "\n",
      "4.12473413288561,4.76403221570494\n",
      "\n",
      "0.60448017267754,2.48683269626113\n",
      "\n",
      "4.90508337402645,5.73149124780903\n",
      "\n",
      "3.98022905664642,4.08674880474913\n",
      "\n",
      "0.751269461224723,2.61094900677355\n",
      "\n",
      "5.24828566141247,4.53734814495341\n",
      "\n",
      "5.78819497838051,4.61625309682499\n",
      "\n",
      "6.75239636843482,5.32450671174738\n",
      "\n",
      "1.62677041702261,1.13617203779717\n",
      "\n",
      "4.09447422248677,5.43640844047471\n",
      "\n",
      "2.34811874925886,1.52793758996129\n",
      "\n",
      "1.31022383077142,2.79536468295984\n",
      "\n",
      "0.984383397213794,2.64328918222516\n",
      "\n",
      "1.56971266574818,3.47229753824531\n",
      "\n",
      "5.35339416889365,6.04549652064012\n",
      "\n",
      "4.36358154802622,4.00436256171206\n",
      "\n",
      "5.45266946613326,4.20407641346864\n",
      "\n",
      "3.62517701162103,4.19441165811299\n",
      "\n",
      "5.77627150520907,5.0805951218111\n",
      "\n",
      "4.02618388213662,5.13798577354298\n",
      "\n",
      "1.72386138532179,2.23235686852195\n",
      "\n",
      "2.04852665008348,1.95802384482577\n",
      "\n",
      "2.80737981091731,0.726470856745321\n",
      "\n",
      "4.87765476694835,6.08712791891195\n",
      "\n",
      "5.08717610241091,4.32193631128851\n",
      "\n",
      "2.96225830131518,1.57817946106997\n",
      "\n",
      "3.53566292625857,3.71401706755701\n",
      "\n",
      "0.48332097741571,2.21939617448669\n",
      "\n",
      "2.0830556596831,1.35223917003081\n",
      "\n",
      "3.42880026654276,2.64458624949299\n",
      "\n",
      "5.31255278049734,3.98643891467471\n",
      "\n",
      "3.87391741383391,5.41213732263566\n",
      "\n",
      "3.65244154750608,6.73022169496179\n",
      "\n",
      "0.809963128221612,1.51592731681529\n",
      "\n",
      "4.83784460587927,5.29192587513925\n",
      "\n",
      "5.73919659547288,5.16367684099165\n",
      "\n",
      "3.29831590961002,2.03762093918666\n",
      "\n",
      "1.28867921238953,2.12328538842353\n",
      "\n",
      "4.18698697582524,5.72194101026182\n",
      "\n",
      "4.58849742465803,4.21013101723443\n",
      "\n",
      "4.04171527200514,2.26749154005165\n",
      "\n",
      "6.33554991196267,4.47066601896043\n",
      "\n",
      "5.02805616247042,5.40358631665798\n",
      "\n",
      "3.76312947286278,1.89347848161253\n",
      "\n",
      "2.49982213618018,0.818848981971985\n",
      "\n",
      "5.12431854792111,3.96000771348877\n",
      "\n",
      "3.33601038174348,4.80465811051708\n",
      "\n",
      "0.710059037194788,1.45545211557955\n",
      "\n",
      "0.761832483302399,1.42998135957772\n",
      "\n",
      "4.98498241637255,5.30771955993828\n",
      "\n",
      "1.29409510523691,1.82758811939821\n",
      "\n",
      "3.84611132248052,4.89832182163525\n",
      "\n",
      "3.4918269974849,3.51233254190095\n",
      "\n",
      "1.98515259160588,3.8248042323747\n",
      "\n",
      "4.17581624888117,4.61937245152451\n",
      "\n",
      "3.82445387949629,3.62663727256125\n",
      "\n",
      "1.63832400892503,3.43525822941941\n",
      "\n",
      "5.15296644565072,4.776220244979\n",
      "\n",
      "3.80223140410461,5.2727167077396\n",
      "\n",
      "3.26455479398704,1.00545605007738\n",
      "\n",
      "1.87717940201263,4.55730872026928\n",
      "\n",
      "5.36481093339961,5.53378045899359\n",
      "\n",
      "3.98615997769356,1.17367905169703\n",
      "\n",
      "4.34096324409634,5.87450641392806\n",
      "\n",
      "1.58835693637627,2.06629580618479\n",
      "\n",
      "4.68069801702526,6.36193316585839\n",
      "\n",
      "2.29225742263381,2.378316390771\n",
      "\n",
      "5.09465647455988,3.85411008578408\n",
      "\n",
      "1.0369802208105,1.43648997469001\n",
      "\n",
      "5.4796891750154,6.65140655956708\n",
      "\n",
      "3.26980872309154,4.78880625920804\n",
      "\n",
      "4.19939330963435,3.47940546170246\n",
      "\n",
      "4.58407259397591,5.97938232701799\n",
      "\n",
      "3.9559058223987,4.98443212721503\n",
      "\n",
      "3.21342362933297,1.4881966427629\n",
      "\n",
      "2.84511872098597,2.65397141731932\n",
      "\n",
      "4.90225827170314,4.59045528001623\n",
      "\n",
      "5.01244473479933,5.18186845377514\n",
      "\n",
      "3.29914405807527,2.4284005807073\n",
      "\n",
      "2.03746867447057,2.13549269056978\n",
      "\n",
      "5.62788724402824,6.55100874899976\n",
      "\n",
      "3.42265793213372,4.24631733169423\n",
      "\n",
      "7.19105671444927,5.25537022974654\n",
      "\n",
      "3.94963215926657,5.37356759088051\n",
      "\n",
      "4.1381216789316,4.11956775960203\n",
      "\n",
      "5.58791991514448,5.49288388368204\n",
      "\n",
      "1.19426057208058,3.2184689503968\n",
      "\n",
      "4.26905956835354,4.02611335709878\n",
      "\n",
      "2.68148873425865,1.23037099062576\n",
      "\n",
      "4.81796650527748,4.1476701270887\n",
      "\n",
      "2.34487918839458,1.82543387145784\n",
      "\n",
      "2.11399295513788,1.63671774575554\n",
      "\n",
      "3.07948100374121,1.8267768820408\n",
      "\n",
      "2.33087946135568,2.3744437368624\n",
      "\n",
      "4.30624157966486,5.76473150769446\n",
      "\n",
      "5.21227315381243,3.70326749873719\n",
      "\n",
      "1.6066113573863,0.179963042463843\n",
      "\n",
      "1.14790037561433,4.24856295424762\n",
      "\n",
      "5.25800808439757,5.50811941135343\n",
      "\n",
      "2.12361554547907,2.1022837903642\n",
      "\n",
      "0.313396113100658,1.97461993224264\n",
      "\n",
      "2.68069124319789,6.30186289489872\n",
      "\n",
      "0.971175802419245,0.787538630222261\n",
      "\n",
      "7.18974745590974,5.07726261936572\n",
      "\n",
      "1.03331431965224,0.72477853734551\n",
      "\n",
      "6.15670568424273,3.8553862568498\n",
      "\n",
      "0.959438470606596,1.82400511920183\n",
      "\n",
      "2.06320019343081,4.30577582812645\n",
      "\n",
      "1.29565929027263,-0.0619358491284827\n",
      "\n",
      "3.53519161359918,-0.0935325232589306\n",
      "\n"
     ]
    }
   ],
   "source": [
    "with open(\"data1.csv\", \"r\") as file:  # Create: x , append: a , write: w , read: r\n",
    "    for row in file:\n",
    "        print(row)"
   ]
  },
  {
   "cell_type": "code",
   "execution_count": 102,
   "metadata": {},
   "outputs": [],
   "source": [
    "file = open(\"test.txt\", \"a\")\n",
    "file.write(\"This is a test\\n\")\n",
    "file.close()"
   ]
  },
  {
   "cell_type": "markdown",
   "metadata": {},
   "source": [
    "### CSV Files"
   ]
  },
  {
   "cell_type": "code",
   "execution_count": 103,
   "metadata": {},
   "outputs": [
    {
     "name": "stdout",
     "output_type": "stream",
     "text": [
      "First Column: x1, Second Column: x2\n",
      "First Column: 2.61872672203542, Second Column: 0.706046135180411\n",
      "First Column: 4.87339080173597, Second Column: 4.77759704011405\n",
      "First Column: 6.31977031009498, Second Column: 5.8616824446801\n",
      "First Column: 4.47782353602643, Second Column: 4.74861495994492\n",
      "First Column: 1.07780898991488, Second Column: 0.87951421637184\n",
      "First Column: 0.63575468360456, Second Column: 1.0761353375097\n",
      "First Column: 4.7050875991835, Second Column: 1.0596926256525\n",
      "First Column: 4.65820874873385, Second Column: 5.40532318631263\n",
      "First Column: 5.72567889595912, Second Column: 4.23081855448231\n",
      "First Column: 1.80893420579701, Second Column: 3.24203886198709\n",
      "First Column: 5.05745722074497, Second Column: 4.71448478720157\n",
      "First Column: 2.22463063772548, Second Column: 1.70095226815204\n",
      "First Column: 2.29872028728524, Second Column: 2.68503592142626\n",
      "First Column: 6.00832274899596, Second Column: 4.31121215324761\n",
      "First Column: 5.43703552209143, Second Column: 5.33904748021403\n",
      "First Column: 1.72570618460002, Second Column: 4.12199438060018\n",
      "First Column: 5.62004569341995, Second Column: 5.38104613615482\n",
      "First Column: 5.20063954406517, Second Column: 5.45381899809471\n",
      "First Column: 0.471780062210477, Second Column: 1.7068613019596\n",
      "First Column: 4.90201028667302, Second Column: 6.50737625917555\n",
      "First Column: 4.02416312030374, Second Column: 4.64998928340235\n",
      "First Column: 3.52063048088216, Second Column: 4.04605156217839\n",
      "First Column: 1.76028128161167, Second Column: 1.69159847602701\n",
      "First Column: 2.57381981521219, Second Column: 0.0562868192920949\n",
      "First Column: 1.64275504852362, Second Column: 2.38204789641092\n",
      "First Column: 2.10718812005293, Second Column: 1.95083192404324\n",
      "First Column: 4.83604682690665, Second Column: 5.74940446640861\n",
      "First Column: 3.12819472838385, Second Column: 3.38959973435104\n",
      "First Column: 4.64059073272832, Second Column: 3.92102199401477\n",
      "First Column: 2.46692855936655, Second Column: 4.28470664507734\n",
      "First Column: 1.6640154307907, Second Column: 1.49236046789421\n",
      "First Column: 5.99914162895186, Second Column: 4.40281637717962\n",
      "First Column: 5.25093184764284, Second Column: 4.11733229644549\n",
      "First Column: 4.1971885789393, Second Column: 2.77973285183532\n",
      "First Column: 3.41488748090422, Second Column: 6.56407528974627\n",
      "First Column: 4.23495637924796, Second Column: 5.84662489175995\n",
      "First Column: 3.10721049907955, Second Column: 1.11468457886153\n",
      "First Column: 1.65015413798921, Second Column: 1.45752042746745\n",
      "First Column: 4.18538435536801, Second Column: 5.40357514545557\n",
      "First Column: 1.33200167706557, Second Column: 3.02556962755268\n",
      "First Column: 4.55459337285015, Second Column: 4.25206198310195\n",
      "First Column: 3.25177898633177, Second Column: 5.93504077776945\n",
      "First Column: 1.69128662261662, Second Column: 2.30027633776933\n",
      "First Column: 1.26599191449114, Second Column: 1.28540054462424\n",
      "First Column: 3.540607812536, Second Column: 0.364645364339389\n",
      "First Column: 3.57356927860286, Second Column: 6.66173291737985\n",
      "First Column: 4.20049845570664, Second Column: 5.55015517660355\n",
      "First Column: 4.444725594272, Second Column: 3.59023692827054\n",
      "First Column: 1.64462558258363, Second Column: 2.80189041227829\n",
      "First Column: 3.65848715618134, Second Column: 4.1174116516079\n",
      "First Column: 6.1182536635867, Second Column: 3.43274343185957\n",
      "First Column: 6.32263636998854, Second Column: 6.32177795614638\n",
      "First Column: 6.88705623056672, Second Column: 4.49174615043275\n",
      "First Column: 1.01431440971911, Second Column: 1.85225373130546\n",
      "First Column: 2.85786321095721, Second Column: 2.14374625249928\n",
      "First Column: 6.13328445009126, Second Column: 5.42835272828077\n",
      "First Column: 4.86497696860257, Second Column: 4.56734476476318\n",
      "First Column: 1.64772915749691, Second Column: 0.959955582222458\n",
      "First Column: 4.65431514327572, Second Column: 5.43111200031915\n",
      "First Column: 5.09807798305352, Second Column: 4.0597531625232\n",
      "First Column: 4.56041939631212, Second Column: 5.52444261103199\n",
      "First Column: 5.28404323139921, Second Column: 3.91394413634305\n",
      "First Column: 4.96026345587458, Second Column: 5.29133502246838\n",
      "First Column: 2.62741195916248, Second Column: 2.03569582422483\n",
      "First Column: 5.80007094786244, Second Column: 5.18272123225677\n",
      "First Column: 0.430526776779112, Second Column: 2.65989869813405\n",
      "First Column: 0.674416577528401, Second Column: 1.37150516306284\n",
      "First Column: 1.41387118144287, Second Column: 0.810115635544331\n",
      "First Column: 2.82071884391936, Second Column: 2.08915176706537\n",
      "First Column: 2.78250474447607, Second Column: 4.7669697303913\n",
      "First Column: 6.4120681349922, Second Column: 4.56444097399334\n",
      "First Column: 3.91060049820478, Second Column: 3.16520670132162\n",
      "First Column: 4.28819090091745, Second Column: 4.73755096519043\n",
      "First Column: 4.61078626252437, Second Column: 6.12852984361267\n",
      "First Column: 0.944467600630866, Second Column: 0.273924238414826\n",
      "First Column: 1.2794382130534, Second Column: 1.82169010522121\n",
      "First Column: 1.9885831945761, Second Column: 2.89532926570268\n",
      "First Column: 0.22033169143263, Second Column: 0.870073756961735\n",
      "First Column: 0.599461942453759, Second Column: 2.62814007871897\n",
      "First Column: 2.75475328463919, Second Column: 3.31130310753773\n",
      "First Column: 1.88446705400024, Second Column: 3.14494521346339\n",
      "First Column: 6.64894516689345, Second Column: 3.80954651955931\n",
      "First Column: 2.38247204736799, Second Column: 3.2167519347045\n",
      "First Column: 1.89102734809078, Second Column: 2.1239321486146\n",
      "First Column: 2.55681636812574, Second Column: 0.368779544561699\n",
      "First Column: 1.77202606033906, Second Column: 2.42691815104488\n",
      "First Column: 4.80599569965951, Second Column: 4.03101495365266\n",
      "First Column: 3.96806147123055, Second Column: 2.37394109676538\n",
      "First Column: 3.25758410551611, Second Column: 0.839926832159615\n",
      "First Column: 5.89439145694257, Second Column: 5.2493818730481\n",
      "First Column: 4.68769927015674, Second Column: 4.27688094827886\n",
      "First Column: 4.25919827780718, Second Column: 6.59608101763317\n",
      "First Column: 5.38737892512386, Second Column: 4.66231647809701\n",
      "First Column: 1.53918236324904, Second Column: 1.23104053968631\n",
      "First Column: 5.53385225511032, Second Column: 5.69097987278769\n",
      "First Column: 5.50041868687943, Second Column: 6.85800426821145\n",
      "First Column: 5.87939194139632, Second Column: 5.97587430846206\n",
      "First Column: 4.256493739433, Second Column: 4.98163816587406\n",
      "First Column: 4.48961754966177, Second Column: 1.83902173255272\n",
      "First Column: 1.13964747157315, Second Column: 2.84623979240739\n",
      "First Column: 2.5853894900194, Second Column: 1.98259822928664\n",
      "First Column: 4.44478453435394, Second Column: 5.05535628062824\n",
      "First Column: 4.56314079746694, Second Column: 5.61803335965541\n",
      "First Column: 2.08485012007245, Second Column: 2.09869530912512\n",
      "First Column: 5.49154274878174, Second Column: 4.50857657970282\n",
      "First Column: 4.7237941292629, Second Column: 3.7545952960052\n",
      "First Column: 5.00611318334257, Second Column: 5.14484693499616\n",
      "First Column: 3.23638156346795, Second Column: 4.23329861305994\n",
      "First Column: 0.219935838925272, Second Column: 1.28244601981896\n",
      "First Column: -0.164690355737851, Second Column: 2.5362971448263\n",
      "First Column: 2.1185214160229, Second Column: 3.78906299559624\n",
      "First Column: 1.17512295581297, Second Column: 2.13177227853519\n",
      "First Column: 0.3647177433654, Second Column: 1.06794911281916\n",
      "First Column: 4.56060819317401, Second Column: 3.56472394566041\n",
      "First Column: 4.48294564321223, Second Column: 6.00400922084693\n",
      "First Column: 4.02132428841668, Second Column: 5.81362199477661\n",
      "First Column: 1.92039542898627, Second Column: 1.29468609050587\n",
      "First Column: 5.61068978373891, Second Column: 6.3033610604287\n",
      "First Column: 4.69956922335081, Second Column: 5.06172716313629\n",
      "First Column: 1.9055808746512, Second Column: 3.41523195375526\n",
      "First Column: 2.8747282746347, Second Column: 0.487512514663964\n",
      "First Column: 2.71129439690821, Second Column: 3.33692242868676\n",
      "First Column: 0.615420293101415, Second Column: 1.02648525935425\n",
      "First Column: 4.57487275267601, Second Column: 4.83791565266481\n",
      "First Column: 5.16129326247533, Second Column: 3.85341404743725\n",
      "First Column: 3.93473876003606, Second Column: 2.63786013261768\n",
      "First Column: 7.0201944719947, Second Column: 4.35580653633275\n",
      "First Column: 2.49560973132287, Second Column: 1.39127898400465\n",
      "First Column: 3.0125082407487, Second Column: 4.47100255458727\n",
      "First Column: 5.96034307264892, Second Column: 3.51374779091382\n",
      "First Column: 4.22989780578655, Second Column: 7.03476532017229\n",
      "First Column: 3.8575720511939, Second Column: 5.40625580137967\n",
      "First Column: 1.30506690617587, Second Column: 0.408374001156763\n",
      "First Column: 1.5441459516116, Second Column: 3.10372086177735\n",
      "First Column: 5.41082712465061, Second Column: 5.66730404966021\n",
      "First Column: 0.948148660236926, Second Column: 3.25267906963135\n",
      "First Column: 2.14600411289324, Second Column: 3.71894852511421\n",
      "First Column: 3.10543759553391, Second Column: 1.99662487548709\n",
      "First Column: 3.03957380950541, Second Column: 0.16156238102081\n",
      "First Column: 5.09280940543346, Second Column: 4.11805603996491\n",
      "First Column: 6.09664498193123, Second Column: 4.43548053908927\n",
      "First Column: 4.58731748568305, Second Column: 4.33584057458691\n",
      "First Column: 7.10857614740047, Second Column: 3.91200559533627\n",
      "First Column: 1.85645396680225, Second Column: -0.346437357446978\n",
      "First Column: 3.36459154116093, Second Column: 1.71669717837464\n",
      "First Column: 0.78781174769958, Second Column: 2.90321402964727\n",
      "First Column: 2.50756691207087, Second Column: 1.51068870645253\n",
      "First Column: 4.50507383529591, Second Column: 5.65563521316996\n",
      "First Column: 3.30676577834294, Second Column: 3.73801245305927\n",
      "First Column: 6.01177715216057, Second Column: 4.50309326933659\n",
      "First Column: 3.23120468696179, Second Column: 2.12817018150211\n",
      "First Column: 2.3535075784521, Second Column: 1.16318409246625\n",
      "First Column: 2.08072261701033, Second Column: 3.50534600760082\n",
      "First Column: 4.57716066290274, Second Column: 5.67866275761437\n",
      "First Column: 1.6279153451939, Second Column: 3.78115912565281\n",
      "First Column: 1.64873405851004, Second Column: 2.33026088353668\n",
      "First Column: 0.503836887415868, Second Column: 3.32190027540609\n",
      "First Column: 4.61240607446392, Second Column: 4.90870861560433\n",
      "First Column: 5.7608260854529, Second Column: 2.4949503319629\n",
      "First Column: 2.54162686294309, Second Column: 1.3685313853642\n",
      "First Column: 3.79393545033192, Second Column: 4.5826989135981\n",
      "First Column: 3.94351353939851, Second Column: 4.59472701884407\n",
      "First Column: 1.32973377852555, Second Column: 1.43032450085209\n",
      "First Column: 0.669912942226147, Second Column: 0.778552735804531\n",
      "First Column: 5.61384205726002, Second Column: 4.85753487569155\n",
      "First Column: 6.42394242528001, Second Column: 4.73045179800984\n",
      "First Column: 4.97326919596637, Second Column: 7.52483452555743\n",
      "First Column: 4.81326477312807, Second Column: 6.14826559896142\n",
      "First Column: 2.41813784035822, Second Column: 0.727751915606271\n",
      "First Column: 5.63420951132127, Second Column: 4.62150059865045\n",
      "First Column: 5.58311652844204, Second Column: 6.59774906816899\n",
      "First Column: 0.60124575229027, Second Column: 1.82496945540603\n",
      "First Column: 1.66077714161239, Second Column: 0.630111943032803\n",
      "First Column: 2.73152663721141, Second Column: 2.44742204804409\n",
      "First Column: 5.01755595610882, Second Column: 6.82830107957945\n",
      "First Column: 5.13340081294714, Second Column: 5.81944938528602\n",
      "First Column: 4.3731909094306, Second Column: 1.55783331051628\n",
      "First Column: 4.82151823933547, Second Column: 5.06122536248237\n",
      "First Column: 2.23777526065055, Second Column: -0.504462563385059\n",
      "First Column: 3.01692907973066, Second Column: 6.81797782389617\n",
      "First Column: 1.89589113793936, Second Column: 1.920321720629\n",
      "First Column: 2.67842906382422, Second Column: 0.510953623204467\n",
      "First Column: 4.90181563433516, Second Column: 5.89972685909683\n",
      "First Column: 4.67296190883765, Second Column: 5.42007352216571\n",
      "First Column: 5.08910211151184, Second Column: 4.93260026003565\n",
      "First Column: 5.99160549262557, Second Column: 5.01257569716952\n",
      "First Column: 4.31204942264269, Second Column: 5.32202056648736\n",
      "First Column: 1.48120797923405, Second Column: 2.70541455540941\n",
      "First Column: 2.43243423528798, Second Column: 2.73813613005885\n",
      "First Column: 3.54996636976919, Second Column: 0.82214853573212\n",
      "First Column: 1.60772468592784, Second Column: 1.58176787412022\n",
      "First Column: 5.40282209763392, Second Column: 5.36249464377762\n",
      "First Column: 3.13085599405107, Second Column: 4.42904950955328\n",
      "First Column: 3.87079417185166, Second Column: 5.6477404863224\n",
      "First Column: 3.15073062671987, Second Column: 6.52474499604977\n",
      "First Column: 5.38472586411446, Second Column: 4.5207804283562\n",
      "First Column: 5.78610600140148, Second Column: 6.64211484873494\n",
      "First Column: 1.23979798976264, Second Column: 2.07112606050142\n",
      "First Column: 3.46238217801858, Second Column: 3.13534329155466\n",
      "First Column: 5.65576580475661, Second Column: 5.78729598993612\n",
      "First Column: 3.77625651503763, Second Column: 5.1099044112801\n",
      "First Column: 3.43347388421739, Second Column: 4.4583577543791\n",
      "First Column: 3.40091880233648, Second Column: 2.37109980500888\n",
      "First Column: 3.6774895442761, Second Column: 4.12783288380735\n",
      "First Column: 3.94994872714339, Second Column: 4.21794931715479\n",
      "First Column: 4.77323261698993, Second Column: 3.22873711161183\n",
      "First Column: 5.77084664562524, Second Column: 7.43106761187323\n",
      "First Column: 1.23237304743182, Second Column: 2.34692677851063\n",
      "First Column: 2.47768952850876, Second Column: 1.71492017030613\n",
      "First Column: 5.28957956831084, Second Column: 5.27709015467155\n",
      "First Column: 2.52571128182641, Second Column: 1.11915986046932\n",
      "First Column: 5.28898205864922, Second Column: 5.26836649811852\n",
      "First Column: 2.00423246567366, Second Column: 3.14198613313807\n",
      "First Column: 0.726244176852811, Second Column: 4.43966222258832\n",
      "First Column: 6.3520293266715, Second Column: 5.10038774796413\n",
      "First Column: 4.3100576752726, Second Column: 4.45350830649883\n",
      "First Column: 1.42013493381626, Second Column: 1.97167887430534\n",
      "First Column: 4.33674396663167, Second Column: 0.744511649217343\n",
      "First Column: 4.76771900917374, Second Column: 6.69442099705674\n",
      "First Column: 4.73540064796221, Second Column: 4.87596996277347\n",
      "First Column: 1.99426674633995, Second Column: 1.21919020863072\n",
      "First Column: 6.89539415866584, Second Column: 5.82839037599397\n",
      "First Column: 3.76357248546965, Second Column: 1.35061001585505\n",
      "First Column: 1.60087916754549, Second Column: 1.43209513351576\n",
      "First Column: 4.30183174319813, Second Column: 3.06633365721631\n",
      "First Column: 0.54296752961811, Second Column: 2.06573001210298\n",
      "First Column: 1.87262258809938, Second Column: 1.02232246612299\n",
      "First Column: 0.263386643996748, Second Column: 1.48839260666999\n",
      "First Column: 6.6192817139063, Second Column: 4.57317822067648\n",
      "First Column: 0.28207003643093, Second Column: 2.46555610372583\n",
      "First Column: 3.58201277261305, Second Column: 5.85375056544869\n",
      "First Column: 4.46393194439442, Second Column: 4.41383791316411\n",
      "First Column: 6.46678338132083, Second Column: 6.38623832590029\n",
      "First Column: 6.76944714588213, Second Column: 6.02862930293145\n",
      "First Column: 1.93898393913487, Second Column: 1.27945078008046\n",
      "First Column: 6.43013482472293, Second Column: 4.32535987872413\n",
      "First Column: 5.61827754938395, Second Column: 6.10544794473812\n",
      "First Column: 1.48490645915476, Second Column: 2.0728459498736\n",
      "First Column: 4.35055303518653, Second Column: 4.48705278937055\n",
      "First Column: 4.78558212656321, Second Column: 5.45434460036039\n",
      "First Column: 2.16980566968632, Second Column: 1.43047038029206\n",
      "First Column: 2.11528956153041, Second Column: 2.10723773899043\n",
      "First Column: 6.00923556021895, Second Column: 6.38132883063896\n",
      "First Column: 3.50847606993947, Second Column: 3.89569172084188\n",
      "First Column: 3.40455577097104, Second Column: 3.33287042529568\n",
      "First Column: 6.78527268225041, Second Column: 5.52331209063219\n",
      "First Column: 3.60480608097925, Second Column: 3.41275410718285\n",
      "First Column: 3.88078042660014, Second Column: 6.62969969283294\n",
      "First Column: 0.885349096888114, Second Column: 2.72394701692657\n",
      "First Column: 6.19003175030188, Second Column: 5.33392155421799\n",
      "First Column: 4.41600948017462, Second Column: 6.02211927210229\n",
      "First Column: 5.34229416266533, Second Column: 3.40102169233383\n",
      "First Column: 2.11279894390407, Second Column: 1.59544138647059\n",
      "First Column: 2.81955838164146, Second Column: 2.86992461151644\n",
      "First Column: 4.91542674024421, Second Column: 5.75430735078314\n",
      "First Column: 1.27659182865656, Second Column: 1.73816795553235\n",
      "First Column: 5.30348386924219, Second Column: 6.39658288278908\n",
      "First Column: 1.88411014497912, Second Column: 2.00890495723918\n",
      "First Column: 2.66647269876352, Second Column: 3.51273014224483\n",
      "First Column: 2.1456607820535, Second Column: 0.982238531188426\n",
      "First Column: 3.12583223109972, Second Column: 2.53439406031912\n",
      "First Column: 5.61593223567922, Second Column: 5.3668813216836\n",
      "First Column: 0.948417288579166, Second Column: 1.45942543523897\n",
      "First Column: 3.13755913191587, Second Column: 1.94998912630265\n",
      "First Column: 4.93108808445721, Second Column: 4.59655562113067\n",
      "First Column: 3.28686229885517, Second Column: 0.539864935821679\n",
      "First Column: 3.74626976476656, Second Column: 4.11173502349949\n",
      "First Column: 4.88675883609098, Second Column: 5.57777810538513\n",
      "First Column: 4.42266941471901, Second Column: 4.74554757852052\n",
      "First Column: 6.89574816097927, Second Column: 5.3273226425232\n",
      "First Column: 2.07631267449511, Second Column: 0.674032756904708\n",
      "First Column: 2.82010179218845, Second Column: 0.64306634315924\n",
      "First Column: 1.09311274610702, Second Column: 2.09947435192371\n",
      "First Column: 4.64592450273109, Second Column: 4.59304937607573\n",
      "First Column: 3.05604275592435, Second Column: 3.76204729130517\n",
      "First Column: 5.02760588353348, Second Column: 5.27331966862275\n",
      "First Column: 0.301969853583732, Second Column: 0.866342902091902\n",
      "First Column: 2.44857824979397, Second Column: 1.97584865782607\n",
      "First Column: 1.77913492220586, Second Column: 1.1747510233306\n",
      "First Column: 4.51214195932446, Second Column: 5.62300354073938\n",
      "First Column: 3.63333322338226, Second Column: 7.06281213060467\n",
      "First Column: 2.60192250699242, Second Column: 1.50215198870231\n",
      "First Column: 2.80331371385332, Second Column: 5.3467428051396\n",
      "First Column: 1.81485718274725, Second Column: 0.172514091911149\n",
      "First Column: 2.4450425441946, Second Column: 2.33838672553778\n",
      "First Column: 2.65409925284474, Second Column: 0.0189757859308197\n",
      "First Column: 5.3928672451661, Second Column: 6.16191412028973\n",
      "First Column: 1.7404675417139, Second Column: 2.15743237258672\n",
      "First Column: 0.44031036760206, Second Column: 0.541525609081598\n",
      "First Column: 3.9138170327282, Second Column: 5.59256803955782\n",
      "First Column: -0.439043238341111, Second Column: 2.25228259641562\n",
      "First Column: 6.50127071771311, Second Column: 5.05763261001034\n",
      "First Column: 0.613680718971318, Second Column: 1.9159064754303\n",
      "First Column: 4.9731711693891, Second Column: 4.69661247578314\n",
      "First Column: -0.0777756132762519, Second Column: 3.44394941856727\n",
      "First Column: 2.46464707212416, Second Column: 1.81438942118562\n",
      "First Column: 2.51460131623356, Second Column: 3.01021605368974\n",
      "First Column: 6.64824719094136, Second Column: 6.60466588523433\n",
      "First Column: 2.39099613284122, Second Column: 2.19091919597095\n",
      "First Column: 3.78416789435373, Second Column: 1.51997480827161\n",
      "First Column: 4.40815468248665, Second Column: 4.54068921759746\n",
      "First Column: 4.33381113326256, Second Column: 4.73230266391212\n",
      "First Column: 2.08308395528879, Second Column: 2.19674152480196\n",
      "First Column: 0.847601519511178, Second Column: 2.59000082966615\n",
      "First Column: 1.80491565284274, Second Column: 2.42093164672516\n",
      "First Column: 4.78552249047314, Second Column: 5.31504794998453\n",
      "First Column: 5.64237845844886, Second Column: 6.30950996340548\n",
      "First Column: 6.567827562768, Second Column: 5.24610407981074\n",
      "First Column: 4.50983260240139, Second Column: 3.91118013677477\n",
      "First Column: 5.62187427308562, Second Column: 5.31153543320834\n",
      "First Column: 5.79520818479879, Second Column: 4.68990355836612\n",
      "First Column: 0.966912927037797, Second Column: 1.7157838936799\n",
      "First Column: 5.86571088536781, Second Column: 4.61370028554855\n",
      "First Column: 3.57615592368072, Second Column: 3.33095518316946\n",
      "First Column: 5.35331089340278, Second Column: 5.39089340254074\n",
      "First Column: 4.0921264713377, Second Column: 6.04350112576722\n",
      "First Column: 7.07992038877672, Second Column: 5.66046688320469\n",
      "First Column: 2.19906388345593, Second Column: -0.11554039648683\n",
      "First Column: 4.25532836062008, Second Column: 5.27504403972471\n",
      "First Column: 2.01861288677833, Second Column: 1.48724701655473\n",
      "First Column: 5.18818381018441, Second Column: 6.23064290302632\n",
      "First Column: 2.73831446059373, Second Column: 3.31347898160404\n",
      "First Column: 1.20007743350655, Second Column: 0.167140348261632\n",
      "First Column: 0.0462968560464219, Second Column: 1.53908174155653\n",
      "First Column: 1.94480090357738, Second Column: 2.45383818031094\n",
      "First Column: 6.20501822365087, Second Column: 2.92878119560478\n",
      "First Column: 1.06092696417562, Second Column: 3.93445918880074\n",
      "First Column: 1.29201391377081, Second Column: 2.49374557156132\n",
      "First Column: 0.0401198320289198, Second Column: 4.28428186284859\n",
      "First Column: -0.317878956419948, Second Column: 2.17149214455563\n",
      "First Column: 4.6631893807803, Second Column: 6.01013305260391\n",
      "First Column: 3.50231148848027, Second Column: 5.90899625171944\n",
      "First Column: 4.47599344873794, Second Column: 5.77869014051667\n",
      "First Column: 2.27160331794456, Second Column: 1.26526864220208\n",
      "First Column: 1.08150377593284, Second Column: 1.80536731328408\n",
      "First Column: 2.25611877493827, Second Column: 3.99540818958222\n",
      "First Column: 4.23515786626669, Second Column: 2.09666591481702\n",
      "First Column: 2.59107461141997, Second Column: 4.83059344566613\n",
      "First Column: 1.81924409230972, Second Column: 2.19380564497589\n",
      "First Column: 3.67356548395856, Second Column: 1.32786444800368\n",
      "First Column: 3.53689832067066, Second Column: 2.63112707663383\n",
      "First Column: 3.37099687315896, Second Column: 4.8585218602958\n",
      "First Column: 4.54033547502901, Second Column: 4.46971348690386\n",
      "First Column: 3.10579260150095, Second Column: 2.38651985843289\n",
      "First Column: 3.25666057727134, Second Column: 6.02165393191534\n",
      "First Column: 5.55494004701664, Second Column: 5.69279164248393\n",
      "First Column: 1.77502306655775, Second Column: 2.42025533708809\n",
      "First Column: 1.82943100953759, Second Column: 0.891812859082087\n",
      "First Column: 2.46673660006922, Second Column: 0.423691864012767\n",
      "First Column: 0.806864607770682, Second Column: 1.42947336873896\n",
      "First Column: 8.82759603111153, Second Column: 6.12105507177466\n",
      "First Column: 1.94986645022691, Second Column: 2.74828471136209\n",
      "First Column: 1.53957949649799, Second Column: 4.47478124107076\n",
      "First Column: 2.11152363375054, Second Column: 4.03957265915972\n",
      "First Column: 5.52524301362923, Second Column: 4.89109937209979\n",
      "First Column: 6.2140123118826, Second Column: 6.11031059166439\n",
      "First Column: 0.326457402722121, Second Column: 0.297645637470376\n",
      "First Column: 5.18738233818557, Second Column: 5.55270323904755\n",
      "First Column: 4.14203235998591, Second Column: 5.83224843944533\n",
      "First Column: 3.49717959546831, Second Column: 4.37217851997766\n",
      "First Column: 3.54205385256366, Second Column: 4.97710915535377\n",
      "First Column: 4.5965458879313, Second Column: 4.18551117408867\n",
      "First Column: 4.80352339456871, Second Column: 4.99799400026023\n",
      "First Column: 3.11657216558083, Second Column: 2.17585815579622\n",
      "First Column: 2.44449595663036, Second Column: 2.1110117772203\n",
      "First Column: 1.63510138338116, Second Column: 2.4013396882255\n",
      "First Column: 4.21923047346962, Second Column: 5.66678754773491\n",
      "First Column: 4.21660826692545, Second Column: 5.74484989696199\n",
      "First Column: 1.98893691114147, Second Column: 1.39979330121748\n",
      "First Column: -0.170846971639067, Second Column: 2.73102944834373\n",
      "First Column: 5.3394352671559, Second Column: 4.84428997749201\n",
      "First Column: 3.15007083963487, Second Column: 1.45530834981102\n",
      "First Column: 4.98755375507101, Second Column: 3.29823848908999\n",
      "First Column: 4.34387160424888, Second Column: 5.7064790827419\n",
      "First Column: 1.60489185211547, Second Column: 1.60745828358911\n",
      "First Column: 5.8112339801281, Second Column: 4.08536152534689\n",
      "First Column: 2.41394293807718, Second Column: 2.3624887158372\n",
      "First Column: 2.01499350775205, Second Column: 1.20208204673018\n",
      "First Column: 1.4203842723694, Second Column: 0.00689611629582676\n",
      "First Column: 6.46124058156988, Second Column: 4.49035218827978\n",
      "First Column: 3.22424626214688, Second Column: 4.20232985701334\n",
      "First Column: 1.61676927749938, Second Column: 4.08781749280073\n",
      "First Column: 1.35259714972234, Second Column: 3.74390207808821\n",
      "First Column: 1.44104125005736, Second Column: 0.954613371999637\n",
      "First Column: 3.9681255011843, Second Column: 4.2203981696503\n",
      "First Column: 0.327735768632112, Second Column: 1.15927609615896\n",
      "First Column: 4.69626344835472, Second Column: 2.96955259542864\n",
      "First Column: 2.16733839040841, Second Column: 1.67078615402409\n",
      "First Column: 2.81824327199203, Second Column: 1.07999010305882\n",
      "First Column: 4.93927505166536, Second Column: 4.96090323134489\n",
      "First Column: 5.86951438128335, Second Column: 5.36614579333389\n",
      "First Column: 0.924227442340991, Second Column: 2.49093190408137\n",
      "First Column: 3.21760122104404, Second Column: 1.17882845398356\n",
      "First Column: 3.150161192997, Second Column: 0.419674514391208\n",
      "First Column: 4.3096777237094, Second Column: 1.48033348923898\n",
      "First Column: 1.62855519828635, Second Column: 0.394081626837944\n",
      "First Column: 2.29380005576158, Second Column: 3.13216375831095\n",
      "First Column: 2.8051140725411, Second Column: 2.16669589135406\n",
      "First Column: 4.58564256557639, Second Column: 2.96076105861211\n",
      "First Column: 2.31925195430057, Second Column: 1.3798555600938\n",
      "First Column: 4.10491070246736, Second Column: 2.86075291227556\n",
      "First Column: 4.97260836868582, Second Column: 4.79424256928495\n",
      "First Column: 1.3085290793716, Second Column: 2.66334923920732\n",
      "First Column: 1.96672888929878, Second Column: 2.32092725867613\n",
      "First Column: 5.63922018316921, Second Column: 4.96013070377566\n",
      "First Column: 5.31928762046333, Second Column: 3.68676876686344\n",
      "First Column: 5.08807779791037, Second Column: 5.50105913598312\n",
      "First Column: 1.93098521336429, Second Column: 3.14012869165379\n",
      "First Column: 0.899845255159125, Second Column: 2.9454507982901\n",
      "First Column: 5.4006299149724, Second Column: 5.72899960093917\n",
      "First Column: 1.24970421582635, Second Column: 1.79231007521268\n",
      "First Column: 3.14703019296072, Second Column: 3.88302766837288\n",
      "First Column: 0.730194890209807, Second Column: 1.44081372545753\n",
      "First Column: 4.51593900632133, Second Column: 5.67414060079761\n",
      "First Column: 2.70821348964725, Second Column: 2.0789425546926\n",
      "First Column: 1.47268319850251, Second Column: 2.25844143698241\n",
      "First Column: 1.23203445320898, Second Column: 2.32183642564842\n",
      "First Column: 5.77304432039171, Second Column: 4.51638469993774\n",
      "First Column: 5.93377513867087, Second Column: 5.71899111032827\n",
      "First Column: 4.42908550080434, Second Column: 5.82852588443138\n",
      "First Column: 5.77466740679163, Second Column: 3.94914261031392\n",
      "First Column: 0.292278066963992, Second Column: 2.72432503979907\n",
      "First Column: 4.00032599469434, Second Column: 3.81544609325039\n",
      "First Column: 3.58709190054927, Second Column: 3.91979600939104\n",
      "First Column: 1.86138461209645, Second Column: 1.25359972731097\n",
      "First Column: 5.51793021845983, Second Column: 4.8732653278723\n",
      "First Column: 6.24954195247724, Second Column: 5.35439518542627\n",
      "First Column: 5.11093305194093, Second Column: 4.28236767388019\n",
      "First Column: 4.33728888617677, Second Column: 5.14876859492787\n",
      "First Column: 1.99938762887928, Second Column: 2.12668842217229\n",
      "First Column: 6.77762538546338, Second Column: 5.20783865558701\n",
      "First Column: 3.13728910010936, Second Column: 1.01642893900686\n",
      "First Column: 4.64635225977869, Second Column: 4.63282978853344\n",
      "First Column: 4.78207185846131, Second Column: 5.04080682484909\n",
      "First Column: 0.20436362833907, Second Column: 2.62025218617119\n",
      "First Column: 3.26919910547492, Second Column: 0.847982815275226\n",
      "First Column: 2.12018298070321, Second Column: 2.95667865630073\n",
      "First Column: 1.67505153186125, Second Column: 1.87726468852903\n",
      "First Column: 4.74982783182228, Second Column: 3.78056873087181\n",
      "First Column: 1.20828581422197, Second Column: 1.64411974897112\n",
      "First Column: 5.58125222065165, Second Column: 5.19007166429619\n",
      "First Column: 2.06669879638375, Second Column: 3.34964977392793\n",
      "First Column: 3.49092415650093, Second Column: 6.04884622739305\n",
      "First Column: 3.86675439999337, Second Column: 5.00410868555899\n",
      "First Column: 2.24214670344411, Second Column: 3.33427237908178\n",
      "First Column: 6.67773335009283, Second Column: 5.42575216297253\n",
      "First Column: 3.64639501963335, Second Column: 0.976505854617512\n",
      "First Column: 1.36993930531142, Second Column: 1.54087149360115\n",
      "First Column: 1.74332195428459, Second Column: 1.36071785422228\n",
      "First Column: 4.86121260307282, Second Column: 4.93264869684056\n",
      "First Column: 3.51797172150155, Second Column: 4.10325024060449\n",
      "First Column: 0.107185945722492, Second Column: 1.43172910236495\n",
      "First Column: 1.52049859497519, Second Column: 2.78223984431609\n",
      "First Column: 4.81805162076728, Second Column: 5.83693834885551\n",
      "First Column: 5.65419237824411, Second Column: 6.78598752672553\n",
      "First Column: 4.54580808111198, Second Column: 5.21505384265772\n",
      "First Column: 5.47605939570264, Second Column: 5.07414987518802\n",
      "First Column: 4.75890312357773, Second Column: 6.16933733917636\n",
      "First Column: 6.18481517194568, Second Column: 2.56229299256298\n",
      "First Column: 5.22375993072974, Second Column: 5.07595004027181\n",
      "First Column: 3.42706733807244, Second Column: 2.45557175860817\n",
      "First Column: 1.57477020882687, Second Column: 2.26293927978715\n",
      "First Column: 0.908178189798721, Second Column: 1.27233500765071\n",
      "First Column: 1.90746206714013, Second Column: 3.0898185417214\n",
      "First Column: 4.3944270132203, Second Column: 4.93697681509298\n",
      "First Column: 0.0977416322090974, Second Column: 3.0482800555767\n",
      "First Column: 6.08756664682435, Second Column: 3.10719218944916\n",
      "First Column: 5.16375204987431, Second Column: 4.94343833628481\n",
      "First Column: 2.7045545652499, Second Column: 1.86402959248272\n",
      "First Column: 4.0346988981246, Second Column: 5.1249205134252\n",
      "First Column: 2.96961737141706, Second Column: 1.82706290668636\n",
      "First Column: 7.19241017237874, Second Column: 6.01891242608891\n",
      "First Column: 1.92278405194694, Second Column: 3.56808070944872\n",
      "First Column: 1.5168098049654, Second Column: 0.253384711793534\n",
      "First Column: 4.66899684716791, Second Column: 4.58403483875564\n",
      "First Column: 6.02968386719825, Second Column: 4.5836644898114\n",
      "First Column: 4.48057037522263, Second Column: 4.40927647776857\n",
      "First Column: 4.69981398776735, Second Column: 4.62602683535512\n",
      "First Column: 5.58132123879121, Second Column: 4.89496259261497\n",
      "First Column: 4.89192701629899, Second Column: 5.79624944603155\n",
      "First Column: 2.22344496536012, Second Column: 2.84853585539275\n",
      "First Column: 1.38704304624089, Second Column: 1.41166324164283\n",
      "First Column: 6.21785898522982, Second Column: 6.30560347329129\n",
      "First Column: 0.920348973330144, Second Column: 0.771171670616268\n",
      "First Column: 1.54549118279689, Second Column: 1.57936064944196\n",
      "First Column: 4.97869602945317, Second Column: 5.29623995232617\n",
      "First Column: 3.66969404671606, Second Column: 5.85910814352014\n",
      "First Column: 1.71725048017038, Second Column: 0.288256778803406\n",
      "First Column: 6.72590754887564, Second Column: 6.04078343126063\n",
      "First Column: 5.49211089966788, Second Column: 6.41423343425194\n",
      "First Column: 4.7572497315404, Second Column: 4.69866096125131\n",
      "First Column: 5.08548186399041, Second Column: 4.53370448376822\n",
      "First Column: 2.03195008285256, Second Column: 2.42591183756999\n",
      "First Column: 5.8128481059031, Second Column: 4.11448475952222\n",
      "First Column: 2.77722626838662, Second Column: 3.47551439736663\n",
      "First Column: 3.28552881485397, Second Column: 5.0059679475863\n",
      "First Column: 3.58349213986453, Second Column: 4.98742143771707\n",
      "First Column: 4.97607961994393, Second Column: 5.07374974392047\n",
      "First Column: 4.05873241769465, Second Column: 5.22629111342373\n",
      "First Column: 2.74073186189183, Second Column: 1.9691142795153\n",
      "First Column: 1.21033977568805, Second Column: 2.53521276498302\n",
      "First Column: 4.44332098134848, Second Column: 5.81568833701327\n",
      "First Column: 5.01308300785651, Second Column: 5.42767195237217\n",
      "First Column: 4.81246685448314, Second Column: 4.14601951589045\n",
      "First Column: 6.97031152251764, Second Column: 5.01503564588308\n",
      "First Column: 0.94068291034448, Second Column: 1.79607298950283\n",
      "First Column: 1.48131614440207, Second Column: 3.15064558900139\n",
      "First Column: 5.36990409013535, Second Column: 5.82913628229273\n",
      "First Column: 0.285831133092133, Second Column: 3.05780386737506\n",
      "First Column: 4.04254695704743, Second Column: 6.39105583864082\n",
      "First Column: 5.07990287952797, Second Column: 4.60673279302117\n",
      "First Column: 2.21553350856766, Second Column: 1.65192213419431\n",
      "First Column: 3.12696203010661, Second Column: 1.68318363941764\n",
      "First Column: 4.95432663074204, Second Column: 4.47564469347302\n",
      "First Column: 4.99567925832663, Second Column: 6.06441088608835\n",
      "First Column: 4.05058154685273, Second Column: 4.50978480478613\n",
      "First Column: 6.34542377937293, Second Column: 5.53771995496291\n",
      "First Column: 3.66235428959974, Second Column: 5.42718803174982\n",
      "First Column: 2.54180670172395, Second Column: 2.53789236326906\n",
      "First Column: 2.679582343503, Second Column: 2.07852292291065\n",
      "First Column: 1.83858956683442, Second Column: 4.06795266765063\n",
      "First Column: 1.61572023453831, Second Column: 1.96589110010776\n",
      "First Column: 2.52030097723542, Second Column: 3.35492329691644\n",
      "First Column: 5.3396638027379, Second Column: 5.99078903336069\n",
      "First Column: 3.41176863275248, Second Column: 2.01683998268935\n",
      "First Column: 3.00342541376598, Second Column: 2.4238473659119\n",
      "First Column: 2.04247756374421, Second Column: 1.86953702096427\n",
      "First Column: 4.60235578718236, Second Column: 5.70211320666729\n",
      "First Column: 3.40846179882451, Second Column: 3.98044596113731\n",
      "First Column: 4.19394116786057, Second Column: 4.806385800796\n",
      "First Column: 0.237116961794479, Second Column: 2.97957623446073\n",
      "First Column: 2.09853689504966, Second Column: 2.38606647512155\n",
      "First Column: 4.78826239922861, Second Column: 5.62609299906786\n",
      "First Column: 5.76870005724782, Second Column: 4.62508917005461\n",
      "First Column: 5.2583481287901, Second Column: 4.14488607016685\n",
      "First Column: 1.33336219369542, Second Column: 3.08617637154976\n",
      "First Column: 2.06134293645698, Second Column: 1.37821387549813\n",
      "First Column: 4.63526813274516, Second Column: 5.24282078444207\n",
      "First Column: 4.49102791591989, Second Column: 6.10628233656249\n",
      "First Column: 2.50065658472976, Second Column: 2.38997845680505\n",
      "First Column: 5.19840688924346, Second Column: 4.93738162598445\n",
      "First Column: 3.01516437879848, Second Column: 1.78399487086189\n",
      "First Column: 3.96882940799608, Second Column: 5.10859163899066\n",
      "First Column: 5.26499980962239, Second Column: 5.26697963687162\n",
      "First Column: 4.09910639715869, Second Column: 5.26285904692061\n",
      "First Column: 1.70697995393552, Second Column: 1.42192408914962\n",
      "First Column: 4.46297773288268, Second Column: 5.5726730686493\n",
      "First Column: 5.99788710497647, Second Column: 5.54291697030545\n",
      "First Column: 3.63268970298932, Second Column: 1.40638551736193\n",
      "First Column: 2.29684012234794, Second Column: 1.84710195303136\n",
      "First Column: -0.178390870590162, Second Column: 3.04510885680454\n",
      "First Column: 3.1888885875678, Second Column: 6.44032695603795\n",
      "First Column: 5.3582905517107, Second Column: 6.37151524171362\n",
      "First Column: 0.829557736941167, Second Column: 2.51033992517284\n",
      "First Column: 1.51621279695723, Second Column: 2.49645004924247\n",
      "First Column: 4.54694459955412, Second Column: 6.07885555446445\n",
      "First Column: 1.50854142470491, Second Column: 1.76259113889613\n",
      "First Column: 2.12068824931006, Second Column: 1.15929807044872\n",
      "First Column: 3.82039775009662, Second Column: 3.30961653989602\n",
      "First Column: 5.34368689717057, Second Column: 3.38528974156588\n",
      "First Column: 4.62938700714999, Second Column: 1.10954584432942\n",
      "First Column: 2.65598234516103, Second Column: 3.12361409222737\n",
      "First Column: 2.3767091899385, Second Column: 1.98372608979876\n",
      "First Column: 1.8380784985254, Second Column: 2.28585268116339\n",
      "First Column: 0.751912359585003, Second Column: 0.97642734779199\n",
      "First Column: 2.61756355023684, Second Column: 2.24929403141883\n",
      "First Column: 3.91204981366802, Second Column: 2.15866898558261\n",
      "First Column: 2.81096403359894, Second Column: 2.48833432925267\n",
      "First Column: 2.81184163180402, Second Column: 1.87552427344826\n",
      "First Column: 5.97456277445799, Second Column: 6.15072834347575\n",
      "First Column: 4.34781980739503, Second Column: 5.39458119094658\n",
      "First Column: 5.66869486790056, Second Column: 5.42516240110272\n",
      "First Column: 4.34782649378068, Second Column: 5.08790907482594\n",
      "First Column: 4.38448735771497, Second Column: 6.76842618756576\n",
      "First Column: 4.94791783860948, Second Column: 3.59088258214606\n",
      "First Column: 1.82607017580588, Second Column: 2.77563493639949\n",
      "First Column: 2.51067014510241, Second Column: 3.32801006570083\n",
      "First Column: 2.25558495975409, Second Column: 2.94252811210449\n",
      "First Column: 2.46849272302577, Second Column: 1.5844187873842\n",
      "First Column: 2.68391872865989, Second Column: 0.549142951542321\n",
      "First Column: 5.97003084213185, Second Column: 4.74331930323821\n",
      "First Column: 2.53860587253163, Second Column: 3.17994156775105\n",
      "First Column: 2.47083622012227, Second Column: 1.74939065554883\n",
      "First Column: 2.34146978839386, Second Column: 1.41308392549384\n",
      "First Column: 6.24473166501246, Second Column: 4.68478010120991\n",
      "First Column: 2.09495474479875, Second Column: 1.56712725668966\n",
      "First Column: 2.53545251209503, Second Column: 2.05688266940668\n",
      "First Column: 4.67595208610902, Second Column: 4.52053112889026\n",
      "First Column: 1.28193901624093, Second Column: 3.42610936337514\n",
      "First Column: 1.98574162830378, Second Column: 1.85322932943352\n",
      "First Column: 2.36985439463277, Second Column: 6.97587499951551\n",
      "First Column: 3.56684054348347, Second Column: 5.68287480551158\n",
      "First Column: 5.27767422791283, Second Column: 5.95583727135627\n",
      "First Column: 4.61291010253535, Second Column: 6.06941907564567\n",
      "First Column: 6.02518387157695, Second Column: 2.54772219729504\n",
      "First Column: 1.24851853616809, Second Column: 2.21584432345316\n",
      "First Column: 5.91763735059402, Second Column: 6.89546151476663\n",
      "First Column: 4.75390908177982, Second Column: 4.59048094768715\n",
      "First Column: 3.9233617418743, Second Column: 5.87029539373272\n",
      "First Column: 4.40392510649826, Second Column: 5.13578278973891\n",
      "First Column: 2.83238829948785, Second Column: 3.63507855468015\n",
      "First Column: 2.19984636081632, Second Column: 1.77833242869854\n",
      "First Column: 2.62430216204888, Second Column: 2.5297465546456\n",
      "First Column: 5.39826701702989, Second Column: 3.96685696336523\n",
      "First Column: 4.51369882958149, Second Column: 3.95631936924621\n",
      "First Column: 7.0900374636799, Second Column: 5.1235574281402\n",
      "First Column: 5.1970032640117, Second Column: 4.48510568462932\n",
      "First Column: 3.15770087796068, Second Column: 2.82656451951539\n",
      "First Column: 0.810878479957407, Second Column: 2.77172497581711\n",
      "First Column: 0.541041154397267, Second Column: 4.53370263197845\n",
      "First Column: 5.10964962304688, Second Column: 7.96766547322943\n",
      "First Column: 6.04017422886361, Second Column: 5.45617179796305\n",
      "First Column: 4.11979387972703, Second Column: 3.44812193844629\n",
      "First Column: 3.46747200757059, Second Column: 2.8990901010006\n",
      "First Column: 3.93394669189763, Second Column: 5.12326633783653\n",
      "First Column: 2.75472217714602, Second Column: 3.57133748077372\n",
      "First Column: 5.37684048731913, Second Column: 4.45482973795909\n",
      "First Column: 3.29852512697046, Second Column: 0.143353597698226\n",
      "First Column: 1.72365323674911, Second Column: 1.7125763981332\n",
      "First Column: 0.915896765182208, Second Column: 1.48556640505004\n",
      "First Column: 3.33617535665509, Second Column: 3.02887134366131\n",
      "First Column: 1.86532107737369, Second Column: 1.86484936479433\n",
      "First Column: 5.62403539602192, Second Column: 5.41632716253601\n",
      "First Column: 6.80052279475399, Second Column: 4.90634582892615\n",
      "First Column: 0.789762119785358, Second Column: 2.5947472715704\n",
      "First Column: 5.20177505889676, Second Column: 5.71095744344411\n",
      "First Column: 4.80534001209615, Second Column: 5.07978559843481\n",
      "First Column: 4.40432030752315, Second Column: 5.64768624583918\n",
      "First Column: 0.692794426927263, Second Column: 2.71419601391445\n",
      "First Column: 0.580812927539365, Second Column: 0.635368825758099\n",
      "First Column: 2.51565130743535, Second Column: 1.67177702774902\n",
      "First Column: 2.16312976787597, Second Column: 2.34589989491107\n",
      "First Column: 2.71050991304201, Second Column: 2.29035152467346\n",
      "First Column: -0.0206241093965103, Second Column: 1.61566725193694\n",
      "First Column: 3.85296460373681, Second Column: 3.63572326246596\n",
      "First Column: 5.98586946284939, Second Column: 4.27677951315835\n",
      "First Column: 1.09543168059369, Second Column: 2.26332872703251\n",
      "First Column: 6.96660602325874, Second Column: 3.79643429058845\n",
      "First Column: 5.23532749496883, Second Column: 4.45533007321192\n",
      "First Column: 1.24678192044103, Second Column: 2.01622104915434\n",
      "First Column: 3.44430678447222, Second Column: 4.5616566309103\n",
      "First Column: 1.04815520544439, Second Column: 1.08924797703317\n",
      "First Column: 2.09366786254183, Second Column: 2.45676244779082\n",
      "First Column: 2.1314906504035, Second Column: 1.79585137353262\n",
      "First Column: 1.59549688966537, Second Column: 0.16604606191409\n",
      "First Column: 0.876754385220814, Second Column: 2.83394038289326\n",
      "First Column: 3.6643348267108, Second Column: 1.99679490189206\n",
      "First Column: 5.8229514407695, Second Column: 4.05889739179862\n",
      "First Column: 2.1292003924559, Second Column: 1.79127838827991\n",
      "First Column: 2.76334097088047, Second Column: 1.4810686142785\n",
      "First Column: 3.16157332495418, Second Column: 1.98595000595941\n",
      "First Column: 5.15357937160603, Second Column: 5.06218863478857\n",
      "First Column: 6.41302779196595, Second Column: 4.86358425454142\n",
      "First Column: 2.06144346136246, Second Column: 2.30388913148071\n",
      "First Column: 3.35261089214025, Second Column: 5.96417365906254\n",
      "First Column: 3.67669347641888, Second Column: 2.94600449822498\n",
      "First Column: 4.27802673533581, Second Column: 5.63921095487633\n",
      "First Column: 2.43251342109992, Second Column: 1.75022644352119\n",
      "First Column: 5.70492983298462, Second Column: 6.70284043753667\n",
      "First Column: 4.79717589080505, Second Column: 4.0457897749478\n",
      "First Column: 2.2249350066714, Second Column: 3.22573196523735\n",
      "First Column: 6.43853918258431, Second Column: 6.45810248454106\n",
      "First Column: 1.83180546116036, Second Column: 2.68467308869198\n",
      "First Column: 1.52856846014387, Second Column: 0.680816183008747\n",
      "First Column: 5.98210186988578, Second Column: 4.68770667650858\n",
      "First Column: 1.02208197663789, Second Column: 2.17976795517568\n",
      "First Column: 4.84124859028974, Second Column: 6.89773493559595\n",
      "First Column: 5.38098398125059, Second Column: 3.39082002994595\n",
      "First Column: 1.29315187406912, Second Column: 1.57630941266091\n",
      "First Column: 0.671860802542168, Second Column: 0.737303787636636\n",
      "First Column: 1.62237489288647, Second Column: -0.357829353625393\n",
      "First Column: 4.91026712846603, Second Column: 4.85719378221649\n",
      "First Column: 5.12321877675663, Second Column: 4.63553860391709\n",
      "First Column: 1.71529903050244, Second Column: 2.20943753700056\n",
      "First Column: 6.32601190884881, Second Column: 5.32756072452033\n",
      "First Column: 2.83312054421538, Second Column: 2.51868562061049\n",
      "First Column: 2.49102430008705, Second Column: 2.43732010235754\n",
      "First Column: 4.62483805096495, Second Column: 4.38765112057288\n",
      "First Column: 2.60210048407076, Second Column: 3.0870232066067\n",
      "First Column: 7.07809303898918, Second Column: 4.50928251414528\n",
      "First Column: 1.91083609222308, Second Column: 2.25618054292682\n",
      "First Column: 3.73306104340769, Second Column: 6.17133474488772\n",
      "First Column: 3.09097217161984, Second Column: 3.81003070399407\n",
      "First Column: 0.803472104806044, Second Column: 1.33816134818804\n",
      "First Column: 2.38690562665874, Second Column: 3.98734639762505\n",
      "First Column: 1.9806984231529, Second Column: 1.29770785032125\n",
      "First Column: 5.46210373724148, Second Column: 5.98393987854688\n",
      "First Column: 1.04141457097601, Second Column: 1.31764613158606\n",
      "First Column: 5.05284934981768, Second Column: 6.85635380485262\n",
      "First Column: -0.805930886937938, Second Column: 1.50192905958709\n",
      "First Column: 2.11856953143214, Second Column: 2.06106738012802\n",
      "First Column: 5.50682135318375, Second Column: 4.48362191279555\n",
      "First Column: -0.153842965362982, Second Column: 2.17095293436975\n",
      "First Column: 1.40817061428456, Second Column: 2.29683390230063\n",
      "First Column: 3.57160175303893, Second Column: 5.49365912599589\n",
      "First Column: 3.0532780939689, Second Column: 2.69416766450538\n",
      "First Column: 2.00535018596085, Second Column: 2.92547384344551\n",
      "First Column: 1.52764762829556, Second Column: 3.23867310193637\n",
      "First Column: 4.97671841257825, Second Column: 3.75237615200629\n",
      "First Column: 3.88155340718889, Second Column: 5.29981466865471\n",
      "First Column: 2.12059435949415, Second Column: 2.61651595443213\n",
      "First Column: 6.48799691823779, Second Column: 3.90306286632447\n",
      "First Column: 2.40381915500562, Second Column: -0.210542214637993\n",
      "First Column: 5.00441506179567, Second Column: 5.32941217141036\n",
      "First Column: 2.06731430221756, Second Column: 1.86767530118745\n",
      "First Column: 5.00211136379582, Second Column: 4.6314388937918\n",
      "First Column: 6.25429135091482, Second Column: 4.56067287397691\n",
      "First Column: 3.34890595984823, Second Column: 2.24334448451868\n",
      "First Column: 4.99695349006768, Second Column: 5.04268970662978\n",
      "First Column: 3.11759042459671, Second Column: 0.126194205957194\n",
      "First Column: 2.84617879728118, Second Column: 1.55015381829555\n",
      "First Column: 1.42030690515459, Second Column: 3.09323818945071\n",
      "First Column: 3.12194526748244, Second Column: 5.25379629678862\n",
      "First Column: 3.85111810364893, Second Column: 4.44686396816276\n",
      "First Column: 2.76899298823899, Second Column: 1.30761258423033\n",
      "First Column: 1.8720740682029, Second Column: 3.01846795409712\n",
      "First Column: 0.552967783638553, Second Column: 2.03736908872639\n",
      "First Column: 4.2036903691339, Second Column: 3.95967482306149\n",
      "First Column: 1.58802490587712, Second Column: 1.14286615196903\n",
      "First Column: 5.85866045907216, Second Column: 6.82230669439862\n",
      "First Column: 4.72941071536484, Second Column: 6.34560617936878\n",
      "First Column: 3.97486775861518, Second Column: 3.63871627428677\n",
      "First Column: 2.59065963292692, Second Column: 1.57347259716216\n",
      "First Column: 2.4624243045807, Second Column: 2.36747208176793\n",
      "First Column: 1.29135460887587, Second Column: 1.32263281216682\n",
      "First Column: 5.5324150507171, Second Column: 4.32900165529779\n",
      "First Column: 4.39998493514233, Second Column: 4.84090894346229\n",
      "First Column: 2.49008789345533, Second Column: 1.75143797365034\n",
      "First Column: 4.8783425179107, Second Column: 4.34776240752216\n",
      "First Column: 4.63144846183172, Second Column: 5.95894366944326\n",
      "First Column: 1.396395246745, Second Column: 1.70487294432148\n",
      "First Column: 2.98188249120365, Second Column: 1.40933842237683\n",
      "First Column: 5.23575406278357, Second Column: 5.66548960127218\n",
      "First Column: 4.00045702107916, Second Column: 4.45217267564732\n",
      "First Column: 3.51352416797538, Second Column: 0.609935271921214\n",
      "First Column: 5.10272439856328, Second Column: 5.1597004949491\n",
      "First Column: 5.1559709052761, Second Column: 3.50944598311068\n",
      "First Column: 4.92879139446796, Second Column: 5.62997903716656\n",
      "First Column: 4.90469112203942, Second Column: 5.82886908124791\n",
      "First Column: 5.48553431459678, Second Column: 4.31170865846975\n",
      "First Column: 2.58783376568297, Second Column: 1.46689194957206\n",
      "First Column: 4.65839707022168, Second Column: 3.87709693283645\n",
      "First Column: 1.35201468480792, Second Column: 2.29920952362054\n",
      "First Column: 5.21343212304773, Second Column: 5.73378451459092\n",
      "First Column: 4.82191960084447, Second Column: 3.32984330754934\n",
      "First Column: 4.63594168740716, Second Column: 4.50010790363363\n",
      "First Column: 2.7143195233294, Second Column: 1.22957379500815\n",
      "First Column: 3.26060150816994, Second Column: 2.23104078395197\n",
      "First Column: 5.47097531323579, Second Column: 4.66179643214912\n",
      "First Column: 3.36362817026114, Second Column: 3.73386263022897\n",
      "First Column: 1.08556692601129, Second Column: 3.39058768318083\n",
      "First Column: 4.53983346154791, Second Column: 4.88968413242462\n",
      "First Column: 6.1477703704575, Second Column: 4.63433702554505\n",
      "First Column: 5.02783626637128, Second Column: 5.88711631665141\n",
      "First Column: 1.70456456012928, Second Column: 3.02712555517585\n",
      "First Column: 4.63995201996568, Second Column: 5.15130907788217\n",
      "First Column: 3.61372825087444, Second Column: 4.18033661992156\n",
      "First Column: 0.971622408680048, Second Column: 1.50811174062272\n",
      "First Column: 1.1164431810323, Second Column: 0.755929810375741\n",
      "First Column: 5.17342125455611, Second Column: 5.63708875724732\n",
      "First Column: 4.17852312491555, Second Column: 1.44743953672014\n",
      "First Column: 4.7614298158024, Second Column: 4.8940462697948\n",
      "First Column: 0.946787864619725, Second Column: 1.21599003844582\n",
      "First Column: 4.02804492567801, Second Column: 5.25275682434887\n",
      "First Column: 1.41446777255466, Second Column: 2.44164004549327\n",
      "First Column: 1.33039987504559, Second Column: 2.91084534831615\n",
      "First Column: 6.124652294885, Second Column: 5.32922048062658\n",
      "First Column: 2.2223237749381, Second Column: 1.61818629016259\n",
      "First Column: 2.86613724835027, Second Column: 1.76162691758209\n",
      "First Column: 3.45748956009854, Second Column: 3.33720540108227\n",
      "First Column: 3.6451734374448, Second Column: 4.10431209229411\n",
      "First Column: 6.38969633048868, Second Column: 5.51922745467967\n",
      "First Column: 5.34241571555988, Second Column: 4.27385948116885\n",
      "First Column: -0.240933000960179, Second Column: 2.62027483330891\n",
      "First Column: 1.61061479416296, Second Column: 0.747613218336757\n",
      "First Column: 6.20250884048753, Second Column: 3.03813628002105\n",
      "First Column: 2.37210995806454, Second Column: 0.995839302561992\n",
      "First Column: 5.47840026076816, Second Column: 4.27877752517295\n",
      "First Column: 2.39352699873531, Second Column: 2.54068152899663\n",
      "First Column: 1.05113772293287, Second Column: 2.20265412417297\n",
      "First Column: 2.46773825965089, Second Column: 2.82982264341906\n",
      "First Column: 4.46523500844259, Second Column: 4.94693799134212\n",
      "First Column: 1.28224851850426, Second Column: 3.90346937872068\n",
      "First Column: 5.05661512829176, Second Column: 4.49834927587017\n",
      "First Column: 2.46468931982843, Second Column: 1.87269185137662\n",
      "First Column: 1.57335336952809, Second Column: 2.32885788602472\n",
      "First Column: 4.35055706183543, Second Column: 5.87412904368434\n",
      "First Column: 3.67373186973189, Second Column: 3.77681827838372\n",
      "First Column: 2.49777875017344, Second Column: 1.92057851671206\n",
      "First Column: 0.0500998026215636, Second Column: 1.94760235579766\n",
      "First Column: 4.79482174955794, Second Column: 4.79149388008865\n",
      "First Column: 5.33810728861045, Second Column: 4.64969517886471\n",
      "First Column: 6.41158135215659, Second Column: 4.9701822347813\n",
      "First Column: 5.30319928787722, Second Column: 5.4588140513423\n",
      "First Column: 5.18937273520552, Second Column: 2.53968763225373\n",
      "First Column: 3.04761954897876, Second Column: 1.19111824953521\n",
      "First Column: 1.27553218580889, Second Column: 2.54952372684992\n",
      "First Column: 0.175402685939514, Second Column: 1.6354441139559\n",
      "First Column: 2.4267971767796, Second Column: 0.974678213890656\n",
      "First Column: 1.73067104194846, Second Column: 1.98319193200586\n",
      "First Column: 1.82597576841076, Second Column: 2.45534526923985\n",
      "First Column: 2.04216201027444, Second Column: 1.83830345326246\n",
      "First Column: 2.1400508338776, Second Column: 3.10799617793083\n",
      "First Column: 2.92743547616719, Second Column: 4.33839990220254\n",
      "First Column: 1.41365610589636, Second Column: 1.49489423701829\n",
      "First Column: 2.13925914425742, Second Column: 3.01944308561121\n",
      "First Column: 0.650945020332324, Second Column: 1.04467754583681\n",
      "First Column: 6.25645154681291, Second Column: 6.7165815397691\n",
      "First Column: 4.21592063220714, Second Column: 4.55728886277001\n",
      "First Column: 3.58997287853811, Second Column: 6.08534012619845\n",
      "First Column: 1.50087093866145, Second Column: 3.38014118673106\n",
      "First Column: 2.74760117006276, Second Column: 0.601589420484416\n",
      "First Column: 1.60669615263018, Second Column: 2.25067997711491\n",
      "First Column: 2.8428787352343, Second Column: 2.74658901131908\n",
      "First Column: 2.37215753370801, Second Column: 3.62113094746713\n",
      "First Column: 4.26240987364625, Second Column: 5.83504973165194\n",
      "First Column: 1.90154305071892, Second Column: 3.14654182274606\n",
      "First Column: 1.2583278828898, Second Column: 3.34601585565886\n",
      "First Column: 2.72490031793384, Second Column: 3.48034086760694\n",
      "First Column: 4.44629793065524, Second Column: 4.05585323943581\n",
      "First Column: 4.46827337651143, Second Column: 3.77017764863318\n",
      "First Column: 0.92689980213773, Second Column: 3.23880228844738\n",
      "First Column: 5.14542546722646, Second Column: 6.02420013113393\n",
      "First Column: 2.0946834626626, Second Column: 1.69067262591022\n",
      "First Column: 1.25743686175896, Second Column: 3.26379744411334\n",
      "First Column: 3.35855398514888, Second Column: 3.78123897170899\n",
      "First Column: 5.83779385877542, Second Column: 4.88676815090514\n",
      "First Column: 4.63449129091297, Second Column: 3.52318796207233\n",
      "First Column: 1.62316056127676, Second Column: 2.8986555001162\n",
      "First Column: 2.07561854317764, Second Column: 2.6687515636795\n",
      "First Column: 4.10648231287252, Second Column: 5.86986904702794\n",
      "First Column: 8.22971873448778, Second Column: 3.98152731014681\n",
      "First Column: 0.923280667030901, Second Column: 2.84197190171727\n",
      "First Column: 7.05125812365565, Second Column: 5.12745119953902\n",
      "First Column: 2.76129948103388, Second Column: 1.461427867728\n",
      "First Column: 5.62660931170819, Second Column: 6.51182010253948\n",
      "First Column: 1.5880886054839, Second Column: 3.81426156195148\n",
      "First Column: 6.83823431145513, Second Column: 4.92886107945684\n",
      "First Column: 5.12904472926355, Second Column: 5.17760997587578\n",
      "First Column: 4.43607422066507, Second Column: 3.36821991946697\n",
      "First Column: 1.937873727538, Second Column: 4.39091706064787\n",
      "First Column: 4.86693696015775, Second Column: 4.63555385591503\n",
      "First Column: 4.16330399396493, Second Column: 6.61795607385183\n",
      "First Column: 6.00774551027045, Second Column: 2.90721937654278\n",
      "First Column: 0.617058353094256, Second Column: 2.56927711680137\n",
      "First Column: 5.92381895054938, Second Column: 5.44490680936257\n",
      "First Column: 0.704366373808972, Second Column: 2.85991806427931\n",
      "First Column: 3.49909752635251, Second Column: 5.16560354168034\n",
      "First Column: 5.75109644073719, Second Column: 4.72010446468928\n",
      "First Column: 5.39995832653664, Second Column: 5.87440938793096\n",
      "First Column: 6.06847400481199, Second Column: 5.35300921458621\n",
      "First Column: 4.37221342902357, Second Column: 4.20758035213342\n",
      "First Column: 3.79559139945101, Second Column: 0.328585630273774\n",
      "First Column: 2.7845446828849, Second Column: 5.97803730082872\n",
      "First Column: 5.1016216885344, Second Column: 6.14628724552329\n",
      "First Column: 4.12440528202092, Second Column: 4.95311916021955\n",
      "First Column: 1.53110258545771, Second Column: 1.3756254757947\n",
      "First Column: 0.182733987112887, Second Column: 1.54488344303573\n",
      "First Column: 1.16194406623148, Second Column: 2.53708869647978\n",
      "First Column: 5.02496878199755, Second Column: 4.51678037775148\n",
      "First Column: 2.5333919661653, Second Column: 5.2123939224392\n",
      "First Column: 3.0269628563084, Second Column: 1.01346884667464\n",
      "First Column: 1.54519422522699, Second Column: 2.31592063331653\n",
      "First Column: 5.70213950116607, Second Column: 4.41056350775857\n",
      "First Column: 2.81591757362568, Second Column: 1.9216296736837\n",
      "First Column: 4.68062908257886, Second Column: 5.28778287343133\n",
      "First Column: 4.06051733354066, Second Column: 5.20625819598642\n",
      "First Column: 2.02665278032691, Second Column: 1.79476172403175\n",
      "First Column: 5.71598982736544, Second Column: 1.76678643754205\n",
      "First Column: 5.19437960346169, Second Column: 4.82895999283295\n",
      "First Column: 4.81588303466914, Second Column: 3.67277214926313\n",
      "First Column: 3.19244668350382, Second Column: 3.79346047105339\n",
      "First Column: 1.18933519370979, Second Column: 2.57073590115879\n",
      "First Column: 1.3319171382025, Second Column: 2.24420163326162\n",
      "First Column: 1.46220311702505, Second Column: 1.76314036116183\n",
      "First Column: 2.60243145216953, Second Column: 1.57617895589418\n",
      "First Column: 4.10257648510992, Second Column: 6.64164617681751\n",
      "First Column: 5.12749167736594, Second Column: 5.93053470353261\n",
      "First Column: 6.62097815900215, Second Column: 3.01566735332335\n",
      "First Column: 4.90551229177719, Second Column: 6.88994900868107\n",
      "First Column: 1.61438268747082, Second Column: 0.701649641816683\n",
      "First Column: 0.432252289519712, Second Column: 1.95353653785754\n",
      "First Column: 4.54286831365272, Second Column: 3.80084228224581\n",
      "First Column: 4.26391674758626, Second Column: 1.20515065281049\n",
      "First Column: 3.2233551577104, Second Column: 3.79510116526211\n",
      "First Column: 0.835734858791141, Second Column: 1.877062511509\n",
      "First Column: 1.3964919816049, Second Column: 1.15735453604472\n",
      "First Column: 5.91120165571434, Second Column: 5.46894201105698\n",
      "First Column: 4.42360026598018, Second Column: 5.05537443623664\n",
      "First Column: 2.4930986220426, Second Column: 3.23843203725918\n",
      "First Column: 4.12473413288561, Second Column: 4.76403221570494\n",
      "First Column: 0.60448017267754, Second Column: 2.48683269626113\n",
      "First Column: 4.90508337402645, Second Column: 5.73149124780903\n",
      "First Column: 3.98022905664642, Second Column: 4.08674880474913\n",
      "First Column: 0.751269461224723, Second Column: 2.61094900677355\n",
      "First Column: 5.24828566141247, Second Column: 4.53734814495341\n",
      "First Column: 5.78819497838051, Second Column: 4.61625309682499\n",
      "First Column: 6.75239636843482, Second Column: 5.32450671174738\n",
      "First Column: 1.62677041702261, Second Column: 1.13617203779717\n",
      "First Column: 4.09447422248677, Second Column: 5.43640844047471\n",
      "First Column: 2.34811874925886, Second Column: 1.52793758996129\n",
      "First Column: 1.31022383077142, Second Column: 2.79536468295984\n",
      "First Column: 0.984383397213794, Second Column: 2.64328918222516\n",
      "First Column: 1.56971266574818, Second Column: 3.47229753824531\n",
      "First Column: 5.35339416889365, Second Column: 6.04549652064012\n",
      "First Column: 4.36358154802622, Second Column: 4.00436256171206\n",
      "First Column: 5.45266946613326, Second Column: 4.20407641346864\n",
      "First Column: 3.62517701162103, Second Column: 4.19441165811299\n",
      "First Column: 5.77627150520907, Second Column: 5.0805951218111\n",
      "First Column: 4.02618388213662, Second Column: 5.13798577354298\n",
      "First Column: 1.72386138532179, Second Column: 2.23235686852195\n",
      "First Column: 2.04852665008348, Second Column: 1.95802384482577\n",
      "First Column: 2.80737981091731, Second Column: 0.726470856745321\n",
      "First Column: 4.87765476694835, Second Column: 6.08712791891195\n",
      "First Column: 5.08717610241091, Second Column: 4.32193631128851\n",
      "First Column: 2.96225830131518, Second Column: 1.57817946106997\n",
      "First Column: 3.53566292625857, Second Column: 3.71401706755701\n",
      "First Column: 0.48332097741571, Second Column: 2.21939617448669\n",
      "First Column: 2.0830556596831, Second Column: 1.35223917003081\n",
      "First Column: 3.42880026654276, Second Column: 2.64458624949299\n",
      "First Column: 5.31255278049734, Second Column: 3.98643891467471\n",
      "First Column: 3.87391741383391, Second Column: 5.41213732263566\n",
      "First Column: 3.65244154750608, Second Column: 6.73022169496179\n",
      "First Column: 0.809963128221612, Second Column: 1.51592731681529\n",
      "First Column: 4.83784460587927, Second Column: 5.29192587513925\n",
      "First Column: 5.73919659547288, Second Column: 5.16367684099165\n",
      "First Column: 3.29831590961002, Second Column: 2.03762093918666\n",
      "First Column: 1.28867921238953, Second Column: 2.12328538842353\n",
      "First Column: 4.18698697582524, Second Column: 5.72194101026182\n",
      "First Column: 4.58849742465803, Second Column: 4.21013101723443\n",
      "First Column: 4.04171527200514, Second Column: 2.26749154005165\n",
      "First Column: 6.33554991196267, Second Column: 4.47066601896043\n",
      "First Column: 5.02805616247042, Second Column: 5.40358631665798\n",
      "First Column: 3.76312947286278, Second Column: 1.89347848161253\n",
      "First Column: 2.49982213618018, Second Column: 0.818848981971985\n",
      "First Column: 5.12431854792111, Second Column: 3.96000771348877\n",
      "First Column: 3.33601038174348, Second Column: 4.80465811051708\n",
      "First Column: 0.710059037194788, Second Column: 1.45545211557955\n",
      "First Column: 0.761832483302399, Second Column: 1.42998135957772\n",
      "First Column: 4.98498241637255, Second Column: 5.30771955993828\n",
      "First Column: 1.29409510523691, Second Column: 1.82758811939821\n",
      "First Column: 3.84611132248052, Second Column: 4.89832182163525\n",
      "First Column: 3.4918269974849, Second Column: 3.51233254190095\n",
      "First Column: 1.98515259160588, Second Column: 3.8248042323747\n",
      "First Column: 4.17581624888117, Second Column: 4.61937245152451\n",
      "First Column: 3.82445387949629, Second Column: 3.62663727256125\n",
      "First Column: 1.63832400892503, Second Column: 3.43525822941941\n",
      "First Column: 5.15296644565072, Second Column: 4.776220244979\n",
      "First Column: 3.80223140410461, Second Column: 5.2727167077396\n",
      "First Column: 3.26455479398704, Second Column: 1.00545605007738\n",
      "First Column: 1.87717940201263, Second Column: 4.55730872026928\n",
      "First Column: 5.36481093339961, Second Column: 5.53378045899359\n",
      "First Column: 3.98615997769356, Second Column: 1.17367905169703\n",
      "First Column: 4.34096324409634, Second Column: 5.87450641392806\n",
      "First Column: 1.58835693637627, Second Column: 2.06629580618479\n",
      "First Column: 4.68069801702526, Second Column: 6.36193316585839\n",
      "First Column: 2.29225742263381, Second Column: 2.378316390771\n",
      "First Column: 5.09465647455988, Second Column: 3.85411008578408\n",
      "First Column: 1.0369802208105, Second Column: 1.43648997469001\n",
      "First Column: 5.4796891750154, Second Column: 6.65140655956708\n",
      "First Column: 3.26980872309154, Second Column: 4.78880625920804\n",
      "First Column: 4.19939330963435, Second Column: 3.47940546170246\n",
      "First Column: 4.58407259397591, Second Column: 5.97938232701799\n",
      "First Column: 3.9559058223987, Second Column: 4.98443212721503\n",
      "First Column: 3.21342362933297, Second Column: 1.4881966427629\n",
      "First Column: 2.84511872098597, Second Column: 2.65397141731932\n",
      "First Column: 4.90225827170314, Second Column: 4.59045528001623\n",
      "First Column: 5.01244473479933, Second Column: 5.18186845377514\n",
      "First Column: 3.29914405807527, Second Column: 2.4284005807073\n",
      "First Column: 2.03746867447057, Second Column: 2.13549269056978\n",
      "First Column: 5.62788724402824, Second Column: 6.55100874899976\n",
      "First Column: 3.42265793213372, Second Column: 4.24631733169423\n",
      "First Column: 7.19105671444927, Second Column: 5.25537022974654\n",
      "First Column: 3.94963215926657, Second Column: 5.37356759088051\n",
      "First Column: 4.1381216789316, Second Column: 4.11956775960203\n",
      "First Column: 5.58791991514448, Second Column: 5.49288388368204\n",
      "First Column: 1.19426057208058, Second Column: 3.2184689503968\n",
      "First Column: 4.26905956835354, Second Column: 4.02611335709878\n",
      "First Column: 2.68148873425865, Second Column: 1.23037099062576\n",
      "First Column: 4.81796650527748, Second Column: 4.1476701270887\n",
      "First Column: 2.34487918839458, Second Column: 1.82543387145784\n",
      "First Column: 2.11399295513788, Second Column: 1.63671774575554\n",
      "First Column: 3.07948100374121, Second Column: 1.8267768820408\n",
      "First Column: 2.33087946135568, Second Column: 2.3744437368624\n",
      "First Column: 4.30624157966486, Second Column: 5.76473150769446\n",
      "First Column: 5.21227315381243, Second Column: 3.70326749873719\n",
      "First Column: 1.6066113573863, Second Column: 0.179963042463843\n",
      "First Column: 1.14790037561433, Second Column: 4.24856295424762\n",
      "First Column: 5.25800808439757, Second Column: 5.50811941135343\n",
      "First Column: 2.12361554547907, Second Column: 2.1022837903642\n",
      "First Column: 0.313396113100658, Second Column: 1.97461993224264\n",
      "First Column: 2.68069124319789, Second Column: 6.30186289489872\n",
      "First Column: 0.971175802419245, Second Column: 0.787538630222261\n",
      "First Column: 7.18974745590974, Second Column: 5.07726261936572\n",
      "First Column: 1.03331431965224, Second Column: 0.72477853734551\n",
      "First Column: 6.15670568424273, Second Column: 3.8553862568498\n",
      "First Column: 0.959438470606596, Second Column: 1.82400511920183\n",
      "First Column: 2.06320019343081, Second Column: 4.30577582812645\n",
      "First Column: 1.29565929027263, Second Column: -0.0619358491284827\n",
      "First Column: 3.53519161359918, Second Column: -0.0935325232589306\n"
     ]
    }
   ],
   "source": [
    "import csv\n",
    "\n",
    "with open(\"data1.csv\", \"r\") as file:\n",
    "    reader = csv.reader(file, delimiter=',')\n",
    "    for row in reader:\n",
    "        print(f\"First Column: {row[0]}, Second Column: {row[1]}\")"
   ]
  },
  {
   "cell_type": "markdown",
   "metadata": {},
   "source": [
    "# Matplotlib"
   ]
  },
  {
   "cell_type": "code",
   "execution_count": 104,
   "metadata": {},
   "outputs": [],
   "source": [
    "import matplotlib.pyplot as plt"
   ]
  },
  {
   "cell_type": "code",
   "execution_count": 105,
   "metadata": {},
   "outputs": [
    {
     "data": {
      "image/png": "[encoded data removed]",
      "text/plain": [
       "<Figure size 432x288 with 1 Axes>"
      ]
     },
     "metadata": {
      "needs_background": "light"
     },
     "output_type": "display_data"
    }
   ],
   "source": [
    "plt.plot([1,2,3,4], [1,4,9,16], 'ro')\n",
    "plt.show()"
   ]
  },
  {
   "cell_type": "code",
   "execution_count": 106,
   "metadata": {},
   "outputs": [
    {
     "data": {
      "image/png": "[encoded data removed]",
      "text/plain": [
       "<Figure size 432x288 with 1 Axes>"
      ]
     },
     "metadata": {
      "needs_background": "light"
     },
     "output_type": "display_data"
    }
   ],
   "source": [
    "plt.plot([1,2,3,4], [1,4,9,16], 'ro')\n",
    "plt.plot([1,2,3,4], [1,4,9,16], 'b-')\n",
    "plt.show()"
   ]
  },
  {
   "cell_type": "code",
   "execution_count": 107,
   "metadata": {},
   "outputs": [
    {
     "data": {
      "image/png": "[encoded data removed]",
      "text/plain": [
       "<Figure size 432x288 with 1 Axes>"
      ]
     },
     "metadata": {
      "needs_background": "light"
     },
     "output_type": "display_data"
    }
   ],
   "source": [
    "t = np.arange(0., 5., 0.2)\n",
    "plt.plot(t, t, 'r--', t, t**2, 'bs', t, t**3, 'g^')\n",
    "plt.show()"
   ]
  },
  {
   "cell_type": "code",
   "execution_count": 108,
   "metadata": {},
   "outputs": [
    {
     "data": {
      "image/png": "[encoded data removed]",
      "text/plain": [
       "<Figure size 432x288 with 2 Axes>"
      ]
     },
     "metadata": {
      "needs_background": "light"
     },
     "output_type": "display_data"
    },
    {
     "data": {
      "image/png": "[encoded data removed]",
      "text/plain": [
       "<Figure size 432x288 with 1 Axes>"
      ]
     },
     "metadata": {
      "needs_background": "light"
     },
     "output_type": "display_data"
    }
   ],
   "source": [
    "plt.figure(1)                # the first figure\n",
    "plt.subplot(211)             # the first subplot in the first figure\n",
    "plt.plot([1, 2, 3], [1, 2, 3])\n",
    "plt.subplot(212)             # the second subplot in the first figure\n",
    "plt.plot([1, 2, 3], [4, 5, 6])\n",
    "\n",
    "\n",
    "plt.figure(2)                # a second figure\n",
    "plt.plot([1, 2, 3], [4, 5, 6])  # creates a subplot(111) by default\n",
    "\n",
    "plt.xlabel('X Axis')\n",
    "plt.ylabel('Y Axis')\n",
    "plt.title('Figure 2')\n",
    "\n",
    "\n",
    "plt.show()"
   ]
  },
  {
   "cell_type": "code",
   "execution_count": null,
   "metadata": {},
   "outputs": [],
   "source": []
  }
 ],
 "metadata": {
  "kernelspec": {
   "display_name": "Python 3",
   "language": "python",
   "name": "python3"
  },
  "language_info": {
   "codemirror_mode": {
    "name": "ipython",
    "version": 3
   },
   "file_extension": ".py",
   "mimetype": "text/x-python",
   "name": "python",
   "nbconvert_exporter": "python",
   "pygments_lexer": "ipython3",
   "version": "3.8.8"
  }
 },
 "nbformat": 4,
 "nbformat_minor": 4
}
